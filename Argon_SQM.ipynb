{
 "cells": [
  {
   "cell_type": "markdown",
   "metadata": {},
   "source": [
    "# 2019 MolSSI Summer School QM project: semiempirical model of Argon\n",
    "\n",
    "## 1. Introduction\n",
    "\n",
    "In this project, we will simulate a cluster of Argon atoms using quantum mechanics (QM) to calculate their total energy. First-principles QM simulations are complicated and expensive, and a quick implementation would rely on a substantial amount of pre-existing software infrastructure. Instead, we will implement a much simpler semiempirical QM simulation that has been designed and parameterized to reproduce first-principles QM data using a minimal model. We can then limit our external dependencies to the standard numerical functionality of Python:"
   ]
  },
  {
   "cell_type": "code",
   "execution_count": 1,
   "metadata": {},
   "outputs": [],
   "source": [
    "import numpy as np"
   ]
  },
  {
   "cell_type": "markdown",
   "metadata": {},
   "source": [
    "As is typically the case in quantum chemistry, we will treat the atomi nuclei as classical point charges,\n",
    "\n",
    "$$ \\vec{r}_i = (x_i , y_i, z_i). $$\n",
    "\n",
    "While we would normally read these from a file or pass them in as an argument to a function, we will just specify a set of atomic coordinates in this example:"
   ]
  },
  {
   "cell_type": "code",
   "execution_count": 2,
   "metadata": {},
   "outputs": [
    {
     "name": "stdout",
     "output_type": "stream",
     "text": [
      "2\n",
      "[[0. 0. 0.]\n",
      " [3. 4. 5.]]\n"
     ]
    }
   ],
   "source": [
    "atomic_coordinates = np.array([ [0.0,0.0,0.0], [3.0,4.0,5.0] ])\n",
    "number_of_atoms = len(atomic_coordinates)\n",
    "\n",
    "np.set_printoptions(precision=1)\n",
    "print(number_of_atoms)\n",
    "print(atomic_coordinates)"
   ]
  },
  {
   "cell_type": "markdown",
   "metadata": {},
   "source": [
    "Similarly, we will only calculate and print the total energy within this notebook, whereas more useful software would probably print output data to a file or return it from a function call. You will add such features as you refactor this software. All physical quantities in this project will be specified in Hartree atomic units, where the bohr is the unit of length and the hartree is the unit of energy.\n",
    "\n",
    "## 2. Model Hamiltonian\n",
    "\n",
    "As is standard in quantum chemistry, we will assume that the total energy of our system is defined to be the ground state energy of a quantum many-body Hamiltonian $\\hat{H}$. In second quantization notation, we can write it as\n",
    "\n",
    "$$ \\hat{H} = E_{\\mathrm{ion}} + \\sum_{p,q} \\sum_{\\sigma \\in \\{ \\uparrow , \\downarrow \\} } h_{p,q} \\hat{a}_{p,\\sigma}^{\\dagger} \\hat{a}_{q,\\sigma} + \\tfrac{1}{2}\\sum_{p,q,r,s} \\sum_{\\sigma,\\sigma' \\in \\{ \\uparrow , \\downarrow \\} } V_{p,q,r,s} \\hat{a}_{p,\\sigma}^{\\dagger} \\hat{a}_{r,\\sigma'}^{\\dagger} \\hat{a}_{s,\\sigma'} \\hat{a}_{q,\\sigma} , $$\n",
    "\n",
    "where $\\hat{a}_{p,\\sigma}^{\\dagger}$ and $\\hat{a}_{p,\\sigma}$ are the electron raising and lowering operators for an atomic orbital index $p$ and spin $\\sigma$. We will not be using $\\hat{H}$ itself in our calculations, but we will make use of the coefficient tensors $h_{p,q}$ and $V_{p,q,r,s}$. In first-principles calculations, each element of $h_{p,q}$ and $V_{p,q,r,s}$ would require the evaluation of a complicated integral. In our semiempirical model, we will set most of them to zero and assign a simple analytical form to the rest of them. The notation being used here is mostly consistent with modern quantum chemistry notation, but some objects, particularly $V_{p,q,r,s}$, have multiple conventions in practice.\n",
    "\n",
    "### A. Model design & parameters\n",
    "\n",
    "This semiempirical model combines some standard concepts and methods used in physics and chemistry. First, it will use a minimal number of electronic degrees of freedom. Because Argon is a noble gas, it interacts primarily through London dispersion forces that are mediated by quantum dipole fluctuations. The lowest energy dipole transition is from the occupied $3p$ states to the unoccupied $4s$ state, and we will include these 4 atomic orbitals per atom. Similarly, we will use a multipole expansion to simplify electronic excitations and retain only the monopole and dipole terms, which also restricts electronic polarization to 4 degrees of freedom per atom. We will use $\\{s, p_x, p_y, p_z\\}$ to label both atomic orbitals and multipole moments on each atom. The nuclear charge of Argon is 18, but our model combines the nucleus and the 12 neglected electrons ($1s^2$, $2s^2$, $2p^6$, and $3s^2$) into an ionic point charge with $Z = 6$."
   ]
  },
  {
   "cell_type": "code",
   "execution_count": 3,
   "metadata": {},
   "outputs": [
    {
     "name": "stdout",
     "output_type": "stream",
     "text": [
      "['px', 'py', 'pz']\n"
     ]
    }
   ],
   "source": [
    "ionic_charge = 6\n",
    "orbital_types = ['s', 'px' ,'py', 'pz']\n",
    "orbitals_per_atom = len(orbital_types)\n",
    "\n",
    "p_orbitals = orbital_types[1:]\n",
    "print(p_orbitals)"
   ]
  },
  {
   "cell_type": "markdown",
   "metadata": {},
   "source": [
    "The atomic orbital index contains information about which atom the orbital is centered on and the type of orbital it is. We will often extract these individual pieces of information using $\\mathrm{atom}(p)$ to denote the atom's index and $\\mathrm{orb}(p)$ to denote the orbital type. This is the first of many instances in this project where we could either represent something as a pre-tabulate list or a function. We will always make the simpler choice, in this case functions:"
   ]
  },
  {
   "cell_type": "code",
   "execution_count": 4,
   "metadata": {},
   "outputs": [
    {
     "name": "stdout",
     "output_type": "stream",
     "text": [
      "1st atom index = 0\n",
      "1st orbital type = s\n",
      "ao index of s orbital on 1st atom = 0\n"
     ]
    }
   ],
   "source": [
    "def atom(ao_index):\n",
    "    '''Returns the atom index part of an atomic orbital index.'''\n",
    "    return ao_index // orbitals_per_atom\n",
    "\n",
    "def orb(ao_index):\n",
    "    '''Returns the orbital type of an atomic orbital index.'''\n",
    "    orb_index = ao_index % orbitals_per_atom\n",
    "    return orbital_types[orb_index]\n",
    "\n",
    "def ao_index(atom_p,orb_p):\n",
    "    '''Returns the atomic orbital index for a given atom index and orbital type.'''\n",
    "    p = atom_p*orbitals_per_atom\n",
    "    p += orbital_types.index(orb_p)\n",
    "    return p\n",
    "\n",
    "print(\"1st atom index =\", atom(0))\n",
    "print(\"1st orbital type =\", orb(0))\n",
    "print(\"ao index of s orbital on 1st atom =\", ao_index(0, 's'))"
   ]
  },
  {
   "cell_type": "markdown",
   "metadata": {},
   "source": [
    "We will discuss the model parameters in more detail as they are used, but it is a good idea to collect them all in a common data structure, a Python dictionary, for convenient access throughout the notebook:"
   ]
  },
  {
   "cell_type": "code",
   "execution_count": 5,
   "metadata": {},
   "outputs": [],
   "source": [
    "model_parameters = { 'r_hop' : 5.0, # hopping length scale\n",
    "                     't_ss' : -0.002, # s-s hopping energy scale\n",
    "                     't_sp' : -0.004, # s-p hopping energy scale\n",
    "                     't_pp1' : -0.008, # 1st p-p hopping energy scale\n",
    "                     't_pp2' : -0.006, # 2nd p-p hopping energy scale\n",
    "                     'r_pseudo' : 3.0, # pseudopotential length scale\n",
    "                     'v_pseudo' : 0.03, # pseudopotential energy scale\n",
    "                     'dipole' : 2.0, # dipole strength of s-p transition\n",
    "                     'energy_s' : -1.0, # onsite energy of s orbital\n",
    "                     'energy_p' : -2.0, # onsite energy of p orbital\n",
    "                     'coulomb_s' : 0.3, # Coulomb self-energy of monopole\n",
    "                     'coulomb_p' : 0.003 } # Coulomb self-energy of dipole"
   ]
  },
  {
   "cell_type": "markdown",
   "metadata": {},
   "source": [
    "There are no parameters related to orbital overlap because all atomic orbitals are assumed to be orthogonal. The parameter values have been pre-optimized for this project, but the fitting process and reference data are both listed at the end of the project if you'd like to learn more about them.\n",
    "\n",
    "### B. Slater-Koster tight-binding model\n",
    "\n",
    "We will describe the kinetic energy of electrons using a simplified [Slater-Koster tight-binding method](https://en.wikipedia.org/wiki/Tight_binding). Because of the symmetry of atomic orbitals and the translational invariance of the kinetic energy operator, there are 4 distinct, distance-dependent \"hopping\" energies that characterize the interatomic kinetic energy between s and p orbitals:\n",
    "\n",
    "![s-p hopping diagram](hopping_cases.png)\n",
    "\n",
    "All other atomic orientations can be related to these cases by a change of coordinates. While it is compatible with very general functional forms, we will use a Gaussian form to simplify the model and its implementation. The distance-dependence of this simple version is controlled by a single hopping length scale $r_{\\mathrm{hop}}$ and the strength of each type of hopping energy,\n",
    "\n",
    "$$ t_{o,o'}(\\vec{r}) = \\exp(1-r^2/r_{\\mathrm{hop}}^2) \\times \\begin{cases}\n",
    " t_{ss} , & o = o' = s \\\\\n",
    " [\\vec{o}' \\cdot (\\vec{r}/r_{\\mathrm{hop}})] t_{sp}, & o = s \\ \\& \\ o' \\in \\{p_x, p_y, p_z\\} \\\\\n",
    " -[\\vec{o} \\cdot (\\vec{r}/r_{\\mathrm{hop}})] t_{sp} , & o' = s \\ \\& \\ o \\in \\{p_x, p_y, p_z\\} \\\\\n",
    " (r^2/r_{\\mathrm{SK}}^2)\\,(\\vec{o} \\cdot \\vec{o}')  t_{pp2} - [\\vec{o} \\cdot (\\vec{r}/r_{\\mathrm{SK}})] [\\vec{o}' \\cdot (\\vec{r}/r_{\\mathrm{SK}})] (t_{pp1} + t_{pp2}), & o,o' \\in \\{p_x, p_y, p_z\\}\n",
    " \\end{cases} $$\n",
    " \n",
    "where $o$ and $o'$ are the orbital types of the 1st and 2nd atoms and $\\vec{r}$ is a vector pointing from the 2nd atom to the 1st atom. We are assigning direction vectors to the p orbitals, $\\vec{p}_x \\equiv (1,0,0)$, $\\vec{p}_y \\equiv (0,1,0)$, and $\\vec{p}_z \\equiv (0,0,1)$, to simplify the notation. This project has multiple case-based formulas, and we will implement them using a code structure similar to each formula:"
   ]
  },
  {
   "cell_type": "code",
   "execution_count": 6,
   "metadata": {},
   "outputs": [
    {
     "name": "stdout",
     "output_type": "stream",
     "text": [
      "vec[px] = [1, 0, 0]\n",
      "hopping test -0.004\n"
     ]
    }
   ],
   "source": [
    "vec = { 'px':[1,0,0], 'py':[0,1,0], 'pz':[0,0,1] }\n",
    "\n",
    "def hopping_energy(o1, o2, r12, model_parameters):\n",
    "    '''Returns the hopping matrix element for a pair of orbitals of type o1 & o2 separated by a vector r12.'''\n",
    "    r12_rescaled = r12 / model_parameters['r_hop']\n",
    "    r12_squared = np.dot(r12_rescaled, r12_rescaled)\n",
    "    ans = np.exp( 1.0 - r12_squared )\n",
    "    if o1 == 's' and o2 == 's':\n",
    "        ans *= model_parameters['t_ss']\n",
    "    if o1 == 's' and o2 in p_orbitals:\n",
    "        ans *= np.dot(vec[o2], r12_rescaled) * model_parameters['t_sp']\n",
    "    if o2 == 's' and o1 in p_orbitals:\n",
    "        ans *= -np.dot(vec[o1], r12_rescaled)* model_parameters['t_sp']\n",
    "    if o1 in p_orbitals and o2 in p_orbitals:\n",
    "        ans *= ( r12_squared * np.dot(vec[o1], vec[o2]) * model_parameters['t_pp2']\n",
    "                 - np.dot(vec[o1], r12_rescaled) * np.dot(vec[o2], r12_rescaled)\n",
    "                 * ( model_parameters['t_pp1'] + model_parameters['t_pp2'] ) )\n",
    "    return ans\n",
    "\n",
    "print(\"vec[px] =\",vec['px'])\n",
    "print(\"hopping test\",hopping_energy('s','px',np.array([5.0,0.0,0.0]),model_parameters))"
   ]
  },
  {
   "cell_type": "markdown",
   "metadata": {},
   "source": [
    "### C. Coulomb interaction\n",
    "\n",
    "For the purpose of electrostatics, we will describe all inter-atomic Coulomb interactions with point charges and all intra-atomic Coulomb interactions between electrons with a common electronic self-energy parameter $V_0$. We need access to both the interaction kernel and its derivatives to define the multipole expansion,\n",
    "\n",
    "$$ V_{o,o'}(\\vec{r}) = \\begin{cases}\n",
    " 1/r , & o = o' = s \\\\\n",
    " (\\vec{o}' \\cdot \\vec{r}) / r^3, & o = s \\ \\& \\ o' \\in \\{p_x, p_y, p_z\\} \\\\\n",
    " -(\\vec{o} \\cdot \\vec{r}) / r^3 , & o' = s \\ \\& \\ o \\in \\{p_x, p_y, p_z\\} \\\\\n",
    " (\\vec{o} \\cdot \\vec{o}') / r^3 - 3 (\\vec{o} \\cdot \\vec{r}) (\\vec{o}' \\cdot \\vec{r}) / r^5, & o,o' \\in \\{p_x, p_y, p_z\\}\n",
    " \\end{cases} $$"
   ]
  },
  {
   "cell_type": "code",
   "execution_count": 7,
   "metadata": {},
   "outputs": [],
   "source": [
    "def coulomb_energy(o1, o2, r12):\n",
    "    '''Returns the Coulomb matrix element for a pair of multipoles of type o1 & o2 separated by a vector r12.'''\n",
    "    r12_length = np.linalg.norm(r12)\n",
    "    if o1 == 's' and o2 == 's':\n",
    "        ans = 1.0 / r12_length\n",
    "    if o1 == 's' and o2 in p_orbitals:\n",
    "        ans = np.dot(vec[o2], r12) / r12_length**3\n",
    "    if o2 == 's' and o1 in p_orbitals:\n",
    "        ans = -np.dot(vec[o1], r12) / r12_length**3\n",
    "    if o1 in p_orbitals and o2 in p_orbitals:\n",
    "        ans = ( np.dot(vec[o1], vec[o2]) / r12_length**3\n",
    "               - 3.0 * np.dot(vec[o1], r12) * np.dot(vec[o2], r12) / r12_length**5 )\n",
    "    return ans "
   ]
  },
  {
   "cell_type": "markdown",
   "metadata": {},
   "source": [
    "The semiempirical model approximations strongly distort the physics of inter-atomic Pauli repulsion, and we compensate for these errors with a short-range ionic pseudopotential, which is a common tool in physics for building effective models of ionic cores:\n",
    "\n",
    "$$ V_o^{\\mathrm{pseudo}}(\\vec{r}) = V_{\\mathrm{pseudo}} \\exp(1 - r^2/r_{\\mathrm{pseudo}}^2) \\times \\begin{cases}\n",
    "1, & o = s \\\\\n",
    "2 \\vec{o}\\cdot\\vec{r}/r_{\\mathrm{pseudo}}, & o \\in \\{p_x, p_y, p_z\\}. \\end{cases} $$"
   ]
  },
  {
   "cell_type": "code",
   "execution_count": 8,
   "metadata": {},
   "outputs": [],
   "source": [
    "def pseudopotential_energy(o, r, model_parameters):\n",
    "    '''Returns the energy of a pseudopotential between a multipole of type o and an atom separated by a vector r.'''\n",
    "    ans = model_parameters['v_pseudo']\n",
    "    r_rescaled = r / model_parameters['r_pseudo']\n",
    "    ans *= np.exp( 1.0 - np.dot(r_rescaled,r_rescaled) )\n",
    "    if o in p_orbitals:\n",
    "        ans *= -2.0 * np.dot(vec[o], r_rescaled)\n",
    "    return ans"
   ]
  },
  {
   "cell_type": "markdown",
   "metadata": {},
   "source": [
    "These interaction kernels enable us to define and calculate the ion-ion energy in $\\hat{H}$,\n",
    "\n",
    "$$ E_{\\mathrm{ion}} = Z^2 \\sum_{i < j} V_{s,s}(\\vec{r}_i - \\vec{r}_j) $$"
   ]
  },
  {
   "cell_type": "code",
   "execution_count": 9,
   "metadata": {},
   "outputs": [
    {
     "name": "stdout",
     "output_type": "stream",
     "text": [
      "5.091168824543142\n"
     ]
    }
   ],
   "source": [
    "def calculate_energy_ion(atomic_coordinates):\n",
    "    '''Returns the ionic contribution to the total energy for an input list of atomic coordinates.'''\n",
    "    energy_ion = 0.0\n",
    "    for i, r_i in enumerate(atomic_coordinates):\n",
    "        for j, r_j in enumerate(atomic_coordinates):\n",
    "            if i < j:\n",
    "                energy_ion += (ionic_charge**2)*coulomb_energy('s', 's', r_i - r_j)\n",
    "    return energy_ion\n",
    "\n",
    "energy_ion = calculate_energy_ion(atomic_coordinates)\n",
    "print(energy_ion)"
   ]
  },
  {
   "cell_type": "markdown",
   "metadata": {},
   "source": [
    "the vector of electron-ion interactions,\n",
    "\n",
    "$$ V^{\\mathrm{ion}}_p = \\sum_{i \\neq \\mathrm{atom}(p)}\n",
    "   V_{\\mathrm{orb}(p)}^{\\mathrm{pseudo}}(\\vec{r}_{\\mathrm{atom}(p)} - \\vec{r}_i)\n",
    "   - Z V_{\\mathrm{orb}(p),s}(\\vec{r}_{\\mathrm{atom}(p)} - \\vec{r}_i)$$"
   ]
  },
  {
   "cell_type": "code",
   "execution_count": 10,
   "metadata": {},
   "outputs": [
    {
     "name": "stdout",
     "output_type": "stream",
     "text": [
      "[-0.8 -0.1 -0.1 -0.1 -0.8  0.1  0.1  0.1]\n"
     ]
    }
   ],
   "source": [
    "def calculate_potential_vector(atomic_coordinates, model_parameters):\n",
    "    '''Returns the electron-ion potential energy vector for an input list of atomic coordinates.'''\n",
    "    ndof = len(atomic_coordinates)*orbitals_per_atom\n",
    "    potential_vector = np.zeros(ndof)\n",
    "    for p in range(ndof):\n",
    "        potential_vector[p] = 0.0\n",
    "        for atom_i,r_i in enumerate(atomic_coordinates):\n",
    "            r_pi = atomic_coordinates[atom(p)] - r_i\n",
    "            if atom_i != atom(p):\n",
    "                potential_vector[p] += ( pseudopotential_energy(orb(p), r_pi, model_parameters) \n",
    "                                         - ionic_charge * coulomb_energy(orb(p), 's', r_pi) )\n",
    "    return potential_vector\n",
    "\n",
    "potential_vector = calculate_potential_vector(atomic_coordinates, model_parameters)\n",
    "print(potential_vector)"
   ]
  },
  {
   "cell_type": "markdown",
   "metadata": {},
   "source": [
    "and the matrix of electron-electron interaction matrix elements,\n",
    "\n",
    "$$ V^{\\mathrm{ee}}_{p,q} = \\begin{cases}\n",
    " V_{\\mathrm{orb}(p),\\mathrm{orb}(q)}(\\vec{r}_{\\mathrm{atom}(p)} - \\vec{r}_{\\mathrm{atom}(q)}) , & \\mathrm{atom}(p) \\neq \\mathrm{atom}(q) \\\\\n",
    " V_0 \\delta_{p,q} , & \\mathrm{atom}(p) = \\mathrm{atom}(q)\n",
    "\\end{cases} . $$"
   ]
  },
  {
   "cell_type": "code",
   "execution_count": 11,
   "metadata": {},
   "outputs": [
    {
     "name": "stdout",
     "output_type": "stream",
     "text": [
      "[[ 3.0e-01  0.0e+00  0.0e+00  0.0e+00  1.4e-01 -8.5e-03 -1.1e-02 -1.4e-02]\n",
      " [ 0.0e+00  3.0e-03  0.0e+00  0.0e+00  8.5e-03  1.3e-03 -2.0e-03 -2.5e-03]\n",
      " [ 0.0e+00  0.0e+00  3.0e-03  0.0e+00  1.1e-02 -2.0e-03  1.1e-04 -3.4e-03]\n",
      " [ 0.0e+00  0.0e+00  0.0e+00  3.0e-03  1.4e-02 -2.5e-03 -3.4e-03 -1.4e-03]\n",
      " [ 1.4e-01  8.5e-03  1.1e-02  1.4e-02  3.0e-01  0.0e+00  0.0e+00  0.0e+00]\n",
      " [-8.5e-03  1.3e-03 -2.0e-03 -2.5e-03  0.0e+00  3.0e-03  0.0e+00  0.0e+00]\n",
      " [-1.1e-02 -2.0e-03  1.1e-04 -3.4e-03  0.0e+00  0.0e+00  3.0e-03  0.0e+00]\n",
      " [-1.4e-02 -2.5e-03 -3.4e-03 -1.4e-03  0.0e+00  0.0e+00  0.0e+00  3.0e-03]]\n"
     ]
    }
   ],
   "source": [
    "def calculate_interaction_matrix(atomic_coordinates, model_parameters):\n",
    "    '''Returns the electron-electron interaction energy matrix for an input list of atomic coordinates.'''\n",
    "    ndof = len(atomic_coordinates)*orbitals_per_atom\n",
    "    interaction_matrix = np.zeros( (ndof,ndof) )\n",
    "    for p in range(ndof):\n",
    "        for q in range(ndof):\n",
    "            if atom(p) != atom(q):\n",
    "                r_pq = atomic_coordinates[atom(p)] - atomic_coordinates[atom(q)]\n",
    "                interaction_matrix[p,q] = coulomb_energy(orb(p), orb(q), r_pq)\n",
    "            if p == q and orb(p) == 's':\n",
    "                interaction_matrix[p,q] = model_parameters['coulomb_s']\n",
    "            if p == q and orb(p) in p_orbitals:\n",
    "                interaction_matrix[p,q] = model_parameters['coulomb_p']                \n",
    "    return interaction_matrix\n",
    "\n",
    "interaction_matrix = calculate_interaction_matrix(atomic_coordinates, model_parameters)\n",
    "print(interaction_matrix)"
   ]
  },
  {
   "cell_type": "markdown",
   "metadata": {},
   "source": [
    "### D. Multipole decomposition\n",
    "\n",
    "To define $V_{p,q,r,s}$ based on the Coulomb matrix elements $V_{p,q}^{\\mathrm{ee}}$, we need to define a mapping from products of atomic orbitals to a linear combination of terms in the multipole expansion of electronic charge. Because the atomic orbitals are normalized, their monopole coefficient with themselves is 1 (i.e. they have unit charge). Because of orthogonality, there is no monopole term for either intra-atomic or inter-atomic transitions between atomic orbitals. We will ignore dipole transitions between atoms, which corresponds to the [neglect of diatomic differential overlap](https://en.wikipedia.org/wiki/NDDO) (NDDO) approximation that is commonly used in semiempirical quantum chemistry. All that remains is the intra-atomic s-p transition, and we will use a model parameter, $D$, to define its dipole strength. These transformation rules between atomic orbitals and multipole moments can be summarized pictorially,\n",
    "\n",
    "![s-p multipole diagram](multipole_cases.png)\n",
    "\n",
    "or mathematically as a 3-index tensor $\\chi_{p,q,r}$ where $p$ and $q$ are the atomic orbital indices and $r$ is the multipole moment index,\n",
    "\n",
    "$$ \\chi_{p, q, r} = \\begin{cases} 1, & \\mathrm{orb}(p) = \\mathrm{orb}(q) \\ \\& \\ \\mathrm{orb}(r) = s \\ \\& \\ \\mathrm{atom}(p) = \\mathrm{atom}(q) = \\mathrm{atom}(r) \\\\ \n",
    " D , & \\mathrm{orb}(q) = \\mathrm{orb}(r) \\in \\{p_x, p_y, p_z\\} \\ \\& \\ \\mathrm{orb}(p) = s \\ \\& \\ \\mathrm{atom}(p) = \\mathrm{atom}(q) = \\mathrm{atom}(r) \\\\\n",
    " D , & \\mathrm{orb}(p) = \\mathrm{orb}(r) \\in \\{p_x, p_y, p_z\\} \\ \\& \\ \\mathrm{orb}(q) = s \\ \\& \\ \\mathrm{atom}(p) = \\mathrm{atom}(q) = \\mathrm{atom}(r) \\\\\n",
    " 0, & \\mathrm{otherwise} \\end{cases} . $$"
   ]
  },
  {
   "cell_type": "code",
   "execution_count": 12,
   "metadata": {},
   "outputs": [
    {
     "name": "stdout",
     "output_type": "stream",
     "text": [
      "[[[1. 0. 0. 0. 0. 0. 0. 0.]\n",
      "  [0. 2. 0. 0. 0. 0. 0. 0.]\n",
      "  [0. 0. 2. 0. 0. 0. 0. 0.]\n",
      "  [0. 0. 0. 2. 0. 0. 0. 0.]\n",
      "  [0. 0. 0. 0. 0. 0. 0. 0.]\n",
      "  [0. 0. 0. 0. 0. 0. 0. 0.]\n",
      "  [0. 0. 0. 0. 0. 0. 0. 0.]\n",
      "  [0. 0. 0. 0. 0. 0. 0. 0.]]\n",
      "\n",
      " [[0. 2. 0. 0. 0. 0. 0. 0.]\n",
      "  [1. 0. 0. 0. 0. 0. 0. 0.]\n",
      "  [0. 0. 0. 0. 0. 0. 0. 0.]\n",
      "  [0. 0. 0. 0. 0. 0. 0. 0.]\n",
      "  [0. 0. 0. 0. 0. 0. 0. 0.]\n",
      "  [0. 0. 0. 0. 0. 0. 0. 0.]\n",
      "  [0. 0. 0. 0. 0. 0. 0. 0.]\n",
      "  [0. 0. 0. 0. 0. 0. 0. 0.]]\n",
      "\n",
      " [[0. 0. 2. 0. 0. 0. 0. 0.]\n",
      "  [0. 0. 0. 0. 0. 0. 0. 0.]\n",
      "  [1. 0. 0. 0. 0. 0. 0. 0.]\n",
      "  [0. 0. 0. 0. 0. 0. 0. 0.]\n",
      "  [0. 0. 0. 0. 0. 0. 0. 0.]\n",
      "  [0. 0. 0. 0. 0. 0. 0. 0.]\n",
      "  [0. 0. 0. 0. 0. 0. 0. 0.]\n",
      "  [0. 0. 0. 0. 0. 0. 0. 0.]]\n",
      "\n",
      " [[0. 0. 0. 2. 0. 0. 0. 0.]\n",
      "  [0. 0. 0. 0. 0. 0. 0. 0.]\n",
      "  [0. 0. 0. 0. 0. 0. 0. 0.]\n",
      "  [1. 0. 0. 0. 0. 0. 0. 0.]\n",
      "  [0. 0. 0. 0. 0. 0. 0. 0.]\n",
      "  [0. 0. 0. 0. 0. 0. 0. 0.]\n",
      "  [0. 0. 0. 0. 0. 0. 0. 0.]\n",
      "  [0. 0. 0. 0. 0. 0. 0. 0.]]\n",
      "\n",
      " [[0. 0. 0. 0. 0. 0. 0. 0.]\n",
      "  [0. 0. 0. 0. 0. 0. 0. 0.]\n",
      "  [0. 0. 0. 0. 0. 0. 0. 0.]\n",
      "  [0. 0. 0. 0. 0. 0. 0. 0.]\n",
      "  [0. 0. 0. 0. 1. 0. 0. 0.]\n",
      "  [0. 0. 0. 0. 0. 2. 0. 0.]\n",
      "  [0. 0. 0. 0. 0. 0. 2. 0.]\n",
      "  [0. 0. 0. 0. 0. 0. 0. 2.]]\n",
      "\n",
      " [[0. 0. 0. 0. 0. 0. 0. 0.]\n",
      "  [0. 0. 0. 0. 0. 0. 0. 0.]\n",
      "  [0. 0. 0. 0. 0. 0. 0. 0.]\n",
      "  [0. 0. 0. 0. 0. 0. 0. 0.]\n",
      "  [0. 0. 0. 0. 0. 2. 0. 0.]\n",
      "  [0. 0. 0. 0. 1. 0. 0. 0.]\n",
      "  [0. 0. 0. 0. 0. 0. 0. 0.]\n",
      "  [0. 0. 0. 0. 0. 0. 0. 0.]]\n",
      "\n",
      " [[0. 0. 0. 0. 0. 0. 0. 0.]\n",
      "  [0. 0. 0. 0. 0. 0. 0. 0.]\n",
      "  [0. 0. 0. 0. 0. 0. 0. 0.]\n",
      "  [0. 0. 0. 0. 0. 0. 0. 0.]\n",
      "  [0. 0. 0. 0. 0. 0. 2. 0.]\n",
      "  [0. 0. 0. 0. 0. 0. 0. 0.]\n",
      "  [0. 0. 0. 0. 1. 0. 0. 0.]\n",
      "  [0. 0. 0. 0. 0. 0. 0. 0.]]\n",
      "\n",
      " [[0. 0. 0. 0. 0. 0. 0. 0.]\n",
      "  [0. 0. 0. 0. 0. 0. 0. 0.]\n",
      "  [0. 0. 0. 0. 0. 0. 0. 0.]\n",
      "  [0. 0. 0. 0. 0. 0. 0. 0.]\n",
      "  [0. 0. 0. 0. 0. 0. 0. 2.]\n",
      "  [0. 0. 0. 0. 0. 0. 0. 0.]\n",
      "  [0. 0. 0. 0. 0. 0. 0. 0.]\n",
      "  [0. 0. 0. 0. 1. 0. 0. 0.]]]\n"
     ]
    }
   ],
   "source": [
    "def chi_on_atom(o1, o2, o3, model_parameters):\n",
    "    '''Returns the value of the chi tensor for 3 orbital indices on the same atom.'''\n",
    "    if o1 == o2 and o3 == 's':\n",
    "        return 1.0\n",
    "    if o1 == o3 and o3 in p_orbitals and o2 == 's':\n",
    "        return model_parameters['dipole']\n",
    "    if o2 == o3 and o3 in p_orbitals and o1 == 's':\n",
    "        return model_parameters['dipole']\n",
    "    return 0.0\n",
    "\n",
    "def calculate_chi_tensor(atomic_coordinates, model_parameters):\n",
    "    '''Returns the chi tensor for an input list of atomic coordinates'''\n",
    "    ndof = len(atomic_coordinates)*orbitals_per_atom\n",
    "    chi_tensor = np.zeros( (ndof,ndof,ndof) )\n",
    "    for p in range(ndof):\n",
    "        for orb_q in orbital_types:\n",
    "            q = ao_index(atom(p), orb_q) # p & q on same atom\n",
    "            for orb_r in orbital_types:\n",
    "                r = ao_index(atom(p), orb_r) # p & r on same atom\n",
    "                chi_tensor[p,q,r] = chi_on_atom(orb(p), orb(q), orb(r), model_parameters)\n",
    "    return chi_tensor\n",
    "\n",
    "chi_tensor = calculate_chi_tensor(atomic_coordinates, model_parameters)\n",
    "print(chi_tensor)"
   ]
  },
  {
   "cell_type": "markdown",
   "metadata": {},
   "source": [
    "The multipole expansion plays the same role as an auxiliary basis set in modern resolution-of-identity (RI) methods that are used to accelerate large quantum chemistry simulations. The primary purpose of these methods is to decompose $V_{p,q,r,s}$ into a low-rank factored form, which is\n",
    "\n",
    "$$ V_{p,q,r,s} = \\sum_{t,u} \\chi_{p,q,t} V_{t,u}^{\\mathrm{ee}} \\chi_{r,s,u} $$\n",
    "\n",
    "in our semiempirical model. Unlike the previous vectors and matrices that we have constructed, the $\\chi$ and $V$ tensors are sparse, meaning that most of their entries are zero. Without a more clever implementation, it can be computationally slow and wasteful to store and compute with these zero values. Modern quantum chemistry methods contain many ways of identifying and utilizing sparsity. For example, we could compute tensor elements of $\\chi$ on-the-fly rather than storing the full tensor. This is analogous to \"integral direct\" methods in quantum chemistry. For simplicity, we will still precompute and store $\\chi$, which fails to utilize its sparsity. However, we will avoid the explicit construction of $V_{p,q,r,s}$ by utilizing its factored form.\n",
    "\n",
    "### E. 1-body Hamiltonian\n",
    "\n",
    "The 1-body Hamiltonian coefficients $h_{p,q}$ combine many of the components that we have already discussed and implemented along with the on-site orbital energies, $E_s$ and $E_p$, that are the final two parameters from the semiempirical model,\n",
    "\n",
    "$$ h_{p,q} = \\begin{cases}\n",
    " t_{\\mathrm{orb}(p),\\mathrm{orb}(q)}(\\vec{r}_{\\mathrm{atom}(p)} - \\vec{r}_{\\mathrm{atom}(q)})\n",
    "  , & \\mathrm{atom}(p) \\neq \\mathrm{atom}(q) \\\\\n",
    " E_{\\mathrm{orb}(p)} \\delta_{\\mathrm{orb}(p),\\mathrm{orb}(q)} + \\sum_{r} \\chi_{p,q,r} V_{r}^{\\mathrm{ion}} , & \\mathrm{atom}(p) = \\mathrm{atom}(q) \n",
    "  \\end{cases}. $$"
   ]
  },
  {
   "cell_type": "code",
   "execution_count": 13,
   "metadata": {},
   "outputs": [
    {
     "name": "stdout",
     "output_type": "stream",
     "text": [
      "hamiltonian matrix =\n",
      " [[-1.8e+00 -1.0e-01 -1.3e-01 -1.7e-01 -7.4e-04  8.8e-04  1.2e-03  1.5e-03]\n",
      " [-1.0e-01 -2.8e+00  0.0e+00  0.0e+00 -8.8e-04 -2.6e-03  2.5e-03  3.1e-03]\n",
      " [-1.3e-01  0.0e+00 -2.8e+00  0.0e+00 -1.2e-03  2.5e-03 -1.1e-03  4.1e-03]\n",
      " [-1.7e-01  0.0e+00  0.0e+00 -2.8e+00 -1.5e-03  3.1e-03  4.1e-03  7.4e-04]\n",
      " [-7.4e-04 -8.8e-04 -1.2e-03 -1.5e-03 -1.8e+00  1.0e-01  1.3e-01  1.7e-01]\n",
      " [ 8.8e-04 -2.6e-03  2.5e-03  3.1e-03  1.0e-01 -2.8e+00  0.0e+00  0.0e+00]\n",
      " [ 1.2e-03  2.5e-03 -1.1e-03  4.1e-03  1.3e-01  0.0e+00 -2.8e+00  0.0e+00]\n",
      " [ 1.5e-03  3.1e-03  4.1e-03  7.4e-04  1.7e-01  0.0e+00  0.0e+00 -2.8e+00]]\n"
     ]
    }
   ],
   "source": [
    "def calculate_hamiltonian_matrix(atomic_coordinates, model_parameters):\n",
    "    '''Returns the 1-body Hamiltonian matrix for an input list of atomic coordinates.'''\n",
    "    ndof = len(atomic_coordinates)*orbitals_per_atom\n",
    "    hamiltonian_matrix = np.zeros( (ndof,ndof) )\n",
    "    potential_vector = calculate_potential_vector(atomic_coordinates, model_parameters)\n",
    "    for p in range(ndof):\n",
    "        for q in range(ndof):\n",
    "            if atom(p) != atom(q):\n",
    "                r_pq = atomic_coordinates[atom(p)] - atomic_coordinates[atom(q)]\n",
    "                hamiltonian_matrix[p,q] = hopping_energy(orb(p), orb(q), r_pq, model_parameters)\n",
    "            if atom(p) == atom(q):\n",
    "                if p == q and orb(p) == 's':\n",
    "                    hamiltonian_matrix[p,q] += model_parameters['energy_s']\n",
    "                if p == q and orb(p) in p_orbitals:\n",
    "                    hamiltonian_matrix[p,q] += model_parameters['energy_p']\n",
    "                for orb_r in orbital_types:\n",
    "                    r = ao_index(atom(p), orb_r)\n",
    "                    hamiltonian_matrix[p,q] += ( chi_on_atom(orb(p), orb(q), orb_r, model_parameters)\n",
    "                                                 * potential_vector[r] )\n",
    "    return hamiltonian_matrix\n",
    "\n",
    "hamiltonian_matrix = calculate_hamiltonian_matrix(atomic_coordinates, model_parameters)\n",
    "print(\"hamiltonian matrix =\\n\",hamiltonian_matrix)"
   ]
  },
  {
   "cell_type": "markdown",
   "metadata": {},
   "source": [
    "We have now fully specified the many-body Hamiltonian $\\hat{H}$, and we can now move on to approximating and calculating some of its physical properties.\n",
    "\n",
    "## 3. Hartree-Fock theory\n",
    "\n",
    "Even with a simple model for $\\hat{H}$, we cannot calculate its ground state energy exactly for more than a few Argon atoms. Instead, we will use the [Hartree-Fock approximation](https://en.wikipedia.org/wiki/Hartree–Fock_method), which restricts the ground-state wavefunction to a single Slater determinant. We will find the Slater determinant with the lowest total energy, but a more general wavefunction will usually have an even lower energy. In the next section, we will use many-body perturbation theory to improve our estimate of the total energy.\n",
    "\n",
    "The central objects of Hartree-Fock theory are the 1-electron density matrix $\\rho_{p,q}$ and the Fock matrix $f_{p,q}$. These two matrices depend on each other, which defines a nonlinear set of equations that we must solve iteratively. Iteratively solving these equations is usually referred to as the self-consistent field (SCF) cycle. For this to converge, we must start from a reasonable initial guess for $\\rho_{p,q}$. We will initialize it to the density matrix for isolated Argon atoms,\n",
    "\n",
    "$$ \\rho_{p,q}^{\\mathrm{atom}} = \\begin{cases} \n",
    "   1, & p = q \\ \\& \\ \\mathrm{orb}(p) \\in \\{ p_x, p_y, p_z \\} \\\\\n",
    "   0, & \\mathrm{otherwise}\n",
    "\\end{cases} $$"
   ]
  },
  {
   "cell_type": "code",
   "execution_count": 14,
   "metadata": {},
   "outputs": [
    {
     "name": "stdout",
     "output_type": "stream",
     "text": [
      "[[0. 0. 0. 0. 0. 0. 0. 0.]\n",
      " [0. 1. 0. 0. 0. 0. 0. 0.]\n",
      " [0. 0. 1. 0. 0. 0. 0. 0.]\n",
      " [0. 0. 0. 1. 0. 0. 0. 0.]\n",
      " [0. 0. 0. 0. 0. 0. 0. 0.]\n",
      " [0. 0. 0. 0. 0. 1. 0. 0.]\n",
      " [0. 0. 0. 0. 0. 0. 1. 0.]\n",
      " [0. 0. 0. 0. 0. 0. 0. 1.]]\n",
      "-34.17855453131874\n"
     ]
    }
   ],
   "source": [
    "orbital_occupation = { 's':0, 'px':1, 'py':1, 'pz':1 }\n",
    "\n",
    "def calculate_atomic_density_matrix(atomic_coordinates):\n",
    "    '''Returns a trial 1-electron density matrix for an input list of atomic coordinates.'''\n",
    "    ndof = len(atomic_coordinates)*orbitals_per_atom\n",
    "    density_matrix = np.zeros( (ndof,ndof) )\n",
    "    for p in range(ndof):\n",
    "        density_matrix[p,p] = orbital_occupation[orb(p)]\n",
    "    return density_matrix\n",
    "\n",
    "density_matrix = calculate_atomic_density_matrix(atomic_coordinates)\n",
    "print(density_matrix)\n",
    "\n",
    "print(2.0*np.einsum('pq,pq',hamiltonian_matrix,density_matrix))"
   ]
  },
  {
   "cell_type": "markdown",
   "metadata": {},
   "source": [
    "Because of spin symmetry, we use the same $\\rho_{p,q}$ for each electron spin type, which reduces the sum over spin types in $\\hat{H}$ to degeneracy pre-factors. Thus, half of the electrons are spin-up and half are spin-down.\n",
    "\n",
    "The Fock matrix is defined by the density matrix,\n",
    "\n",
    "$$ \\begin{align} f_{p,q} & = h_{p,q} + \\sum_{r,s} ( 2 V_{p,q,r,s} - V_{r,q,p,s} )\\rho_{r,s} \\\\\n",
    "                         & = h_{p,q} + \\sum_{r,s,t,u} ( 2 \\chi_{p,q,t} \\chi_{r,s,u} - \\chi_{r,q,t} \\chi_{p,s,u} )\n",
    "                             V_{t,u}^{\\mathrm{ee}} \\rho_{r,s}\n",
    "   \\end{align} $$"
   ]
  },
  {
   "cell_type": "code",
   "execution_count": 15,
   "metadata": {},
   "outputs": [
    {
     "name": "stdout",
     "output_type": "stream",
     "text": [
      "[[ 7.6e-01  1.3e-03  1.7e-03  2.1e-03 -7.4e-04  8.8e-04  1.2e-03  1.5e-03]\n",
      " [ 1.3e-03 -5.0e-01  0.0e+00  0.0e+00 -8.8e-04 -2.6e-03  2.5e-03  3.1e-03]\n",
      " [ 1.7e-03  0.0e+00 -5.0e-01  0.0e+00 -1.2e-03  2.5e-03 -1.1e-03  4.1e-03]\n",
      " [ 2.1e-03  0.0e+00  0.0e+00 -5.0e-01 -1.5e-03  3.1e-03  4.1e-03  7.4e-04]\n",
      " [-7.4e-04 -8.8e-04 -1.2e-03 -1.5e-03  7.6e-01 -1.3e-03 -1.7e-03 -2.1e-03]\n",
      " [ 8.8e-04 -2.6e-03  2.5e-03  3.1e-03 -1.3e-03 -5.0e-01  0.0e+00  0.0e+00]\n",
      " [ 1.2e-03  2.5e-03 -1.1e-03  4.1e-03 -1.7e-03  0.0e+00 -5.0e-01  0.0e+00]\n",
      " [ 1.5e-03  3.1e-03  4.1e-03  7.4e-04 -2.1e-03  0.0e+00  0.0e+00 -5.0e-01]]\n"
     ]
    }
   ],
   "source": [
    "def calculate_fock_matrix(hamiltonian_matrix, interaction_matrix, density_matrix, chi_tensor):\n",
    "    '''Returns the Fock matrix defined by the input Hamiltonian, interaction, & density matrices.'''\n",
    "    fock_matrix = hamiltonian_matrix.copy()\n",
    "    fock_matrix += 2.0*np.einsum('pqt,rsu,tu,rs',\n",
    "                                 chi_tensor, chi_tensor, interaction_matrix, density_matrix, optimize=True)\n",
    "    fock_matrix -= np.einsum('rqt,psu,tu,rs',\n",
    "                             chi_tensor, chi_tensor, interaction_matrix, density_matrix, optimize=True)\n",
    "    return fock_matrix\n",
    "\n",
    "fock_matrix = calculate_fock_matrix(hamiltonian_matrix, interaction_matrix, density_matrix, chi_tensor)\n",
    "print(fock_matrix)"
   ]
  },
  {
   "cell_type": "markdown",
   "metadata": {},
   "source": [
    "which is just a sum of two tensor contractions between the $V$ tensor and the density matrix. Because the $V$ tensor has low rank, we can save a lot of computational effort by using its factored form. This is our first example of using \"einsum\" in NumPy to trivialize the implementation of a tensor equation.\n",
    "\n",
    "The Fock matrix defines the matrix of molecular orbitals $\\phi_{i,j}$ as its eigenvectors,\n",
    "\n",
    "$$ \\sum_{q} f_{p,q} \\phi_{q,r} = E_r \\phi_{p,r}, $$\n",
    "\n",
    "and the density matrix is defined by the occupied orbitals (we occupy the lowest-energy orbitals with all of the electrons available),\n",
    "\n",
    "$$ \\rho_{p,q} = \\sum_{i \\in \\mathrm{occ}} \\phi_{p,i} \\phi_{q,i}. $$"
   ]
  },
  {
   "cell_type": "code",
   "execution_count": 16,
   "metadata": {},
   "outputs": [
    {
     "name": "stdout",
     "output_type": "stream",
     "text": [
      "[[ 8.3e-06 -1.0e-03 -1.3e-03 -1.7e-03 -7.8e-06 -7.0e-04 -9.4e-04 -1.2e-03]\n",
      " [-1.0e-03  1.0e+00 -2.0e-06 -2.5e-06  7.0e-04 -1.4e-06 -1.9e-06 -2.3e-06]\n",
      " [-1.3e-03 -2.0e-06  1.0e+00 -3.3e-06  9.4e-04 -1.9e-06 -2.5e-06 -3.1e-06]\n",
      " [-1.7e-03 -2.5e-06 -3.3e-06  1.0e+00  1.2e-03 -2.3e-06 -3.1e-06 -3.9e-06]\n",
      " [-7.8e-06  7.0e-04  9.4e-04  1.2e-03  8.3e-06  1.0e-03  1.3e-03  1.7e-03]\n",
      " [-7.0e-04 -1.4e-06 -1.9e-06 -2.3e-06  1.0e-03  1.0e+00 -2.0e-06 -2.5e-06]\n",
      " [-9.4e-04 -1.9e-06 -2.5e-06 -3.1e-06  1.3e-03 -2.0e-06  1.0e+00 -3.3e-06]\n",
      " [-1.2e-03 -2.3e-06 -3.1e-06 -3.9e-06  1.7e-03 -2.5e-06 -3.3e-06  1.0e+00]]\n"
     ]
    }
   ],
   "source": [
    "def calculate_density_matrix(fock_matrix):\n",
    "    '''Returns the 1-electron density matrix defined by the input Fock matrix.'''\n",
    "    num_occ = (ionic_charge//2)*np.size(fock_matrix,0)//orbitals_per_atom\n",
    "    orbital_energy, orbital_matrix = np.linalg.eigh(fock_matrix)\n",
    "    occupied_matrix = orbital_matrix[:,:num_occ]\n",
    "    density_matrix = occupied_matrix @ occupied_matrix.T\n",
    "    return density_matrix\n",
    "\n",
    "density_matrix = calculate_density_matrix(fock_matrix)\n",
    "print(density_matrix)"
   ]
  },
  {
   "cell_type": "markdown",
   "metadata": {},
   "source": [
    "To calculate a $\\rho_{p,q}$ and $f_{p,q}$ that are consistent with each other, we mix in a fraction of the new density matrix with the old density matrix and re-calculate them until convergence. This is a crude strategy for an SCF cycle, but it works for weakly interacting atoms like Argon:"
   ]
  },
  {
   "cell_type": "code",
   "execution_count": 17,
   "metadata": {},
   "outputs": [
    {
     "name": "stdout",
     "output_type": "stream",
     "text": [
      "density matrix after SCF:\n",
      " [[ 1.1e-05 -1.1e-03 -1.5e-03 -1.9e-03 -1.0e-05 -8.0e-04 -1.1e-03 -1.3e-03]\n",
      " [-1.1e-03  1.0e+00 -2.6e-06 -3.2e-06  8.0e-04 -1.8e-06 -2.4e-06 -3.0e-06]\n",
      " [-1.5e-03 -2.6e-06  1.0e+00 -4.3e-06  1.1e-03 -2.4e-06 -3.2e-06 -4.0e-06]\n",
      " [-1.9e-03 -3.2e-06 -4.3e-06  1.0e+00  1.3e-03 -3.0e-06 -4.0e-06 -5.1e-06]\n",
      " [-1.0e-05  8.0e-04  1.1e-03  1.3e-03  1.1e-05  1.1e-03  1.5e-03  1.9e-03]\n",
      " [-8.0e-04 -1.8e-06 -2.4e-06 -3.0e-06  1.1e-03  1.0e+00 -2.6e-06 -3.2e-06]\n",
      " [-1.1e-03 -2.4e-06 -3.2e-06 -4.0e-06  1.5e-03 -2.6e-06  1.0e+00 -4.3e-06]\n",
      " [-1.3e-03 -3.0e-06 -4.0e-06 -5.1e-06  1.9e-03 -3.2e-06 -4.3e-06  1.0e+00]]\n"
     ]
    }
   ],
   "source": [
    "def scf_cycle(hamiltonian_matrix, interaction_matrix, density_matrix, chi_tensor):\n",
    "    '''Returns converged density & Fock matrices defined by the input Hamiltonian, interaction, & density matrices.'''\n",
    "    MAX_SCF_ITERATIONS = 100\n",
    "    MIXING_FRACTION = 0.25\n",
    "    CONVERGENCE_TOLERANCE = 1e-4\n",
    "    for iteration in range(MAX_SCF_ITERATIONS):\n",
    "        fock_matrix = calculate_fock_matrix(hamiltonian_matrix, interaction_matrix, density_matrix, chi_tensor)\n",
    "        new_density_matrix = calculate_density_matrix(fock_matrix)\n",
    "\n",
    "        error_norm = np.linalg.norm( density_matrix - new_density_matrix )\n",
    "        if error_norm < CONVERGENCE_TOLERANCE:\n",
    "            return density_matrix, fock_matrix\n",
    "\n",
    "        density_matrix = (MIXING_FRACTION*new_density_matrix\n",
    "                          + (1.0 - MIXING_FRACTION)*density_matrix)\n",
    "    print(\"SCF cycle didn't converge\")\n",
    "    return density_matrix, fock_matrix\n",
    "\n",
    "density_matrix, fock_matrix = scf_cycle(hamiltonian_matrix, interaction_matrix, density_matrix, chi_tensor)\n",
    "print(\"density matrix after SCF:\\n\",density_matrix)"
   ]
  },
  {
   "cell_type": "markdown",
   "metadata": {},
   "source": [
    "Once we have a converged density matrix, the Hartree-Fock total energy is defined as\n",
    "\n",
    "$$ \\begin{align}\n",
    "  E_{\\mathrm{HF}} &= E_{\\mathrm{ion}} + E_{\\mathrm{SCF}} \\\\\n",
    "  E_{\\mathrm{SCF}} &= 2 \\sum_{p,q} h_{p,q} \\rho_{p,q}\n",
    "  + \\sum_{p,q,r,s} V_{p,q,r,s} ( 2 \\rho_{p,q} \\rho_{r,s} - \\rho_{p,s} \\rho_{r,q} ) = \\sum_{p,q} (h_{p,q} + f_{p,q}) \\rho_{p,q}\n",
    "  \\end{align} $$"
   ]
  },
  {
   "cell_type": "code",
   "execution_count": 18,
   "metadata": {},
   "outputs": [
    {
     "name": "stdout",
     "output_type": "stream",
     "text": [
      "Hartree-Fock energy = -14.996265171433325\n"
     ]
    }
   ],
   "source": [
    "def calculate_energy_scf(hamiltonian_matrix, fock_matrix, density_matrix):\n",
    "    '''Returns the Hartree-Fock total energy defined by the input Hamiltonian, Fock, & density matrices.'''\n",
    "    energy_scf = np.einsum('pq,pq',hamiltonian_matrix + fock_matrix,density_matrix)\n",
    "    return energy_scf\n",
    "\n",
    "energy_scf = calculate_energy_scf(hamiltonian_matrix, fock_matrix, density_matrix)\n",
    "print(\"Hartree-Fock energy =\",energy_ion + energy_scf)"
   ]
  },
  {
   "cell_type": "markdown",
   "metadata": {},
   "source": [
    "The bottleneck of this Hartree-Fock implementation is the tensor contraction in the formation of the Fock matrix. Because we are not exploiting the sparsity of $\\chi$, it scales as $O(n^4)$ operations for $n$ atoms because of 3 free tensor indices and 1 summed tensor index in the contractions with the dense $\\chi$ tensor.\n",
    "\n",
    "## 4. 2nd-order Moller-Plesset (MP2) perturbation theory\n",
    "\n",
    "The Hartree-Fock approximation does not describe the London dispersion interaction between Argon atoms. We must use many-body perturbation theory to improve our approximation to the ground state of $\\hat{H}$. Thankfully, we only need to use the first correction beyond Hartree-Fock theory, which is [second-order Moller-Plesset (MP2) perturbation theory](https://en.wikipedia.org/wiki/Møller–Plesset_perturbation_theory). It is simple, but computationally expensive. The computational bottleneck is the transformation of the tensor $V_{p,q,r,s}$ from the atomic orbital basis to the molecular orbital basis,\n",
    "\n",
    "$$ \\tilde{V}_{a,i,b,j} = \\sum_{p,q,r,s} \\phi_{p,a} \\phi_{q,i} \\phi_{r,b} \\phi_{s,j} V_{p,q,r,s}. $$\n",
    "\n",
    "where we are restricting some indices to occupied orbitals ($i$ and $j$) and some indices to the unoccupied \"virtual\" orbitals ($a$ and $b$). This use of specific orbital labels to denote a restriction of indices is standard notation in quantum chemistry. To make this easier to program, we can partition the molecular orbitals and their energies into occupied and virtual:"
   ]
  },
  {
   "cell_type": "code",
   "execution_count": 19,
   "metadata": {},
   "outputs": [
    {
     "name": "stdout",
     "output_type": "stream",
     "text": [
      "occupied orbital energies:\n",
      " [-0.506151 -0.50453  -0.50453  -0.495701 -0.495701 -0.494102]\n",
      "virtual orbital energies:\n",
      " [0.762998 0.764793]\n"
     ]
    }
   ],
   "source": [
    "def partition_orbitals(fock_matrix):\n",
    "    '''Returns a list with the occupied/virtual energies & orbitals defined by the input Fock matrix.'''\n",
    "    num_occ = (ionic_charge//2)*np.size(fock_matrix,0)//orbitals_per_atom\n",
    "    orbital_energy, orbital_matrix = np.linalg.eigh(fock_matrix)\n",
    "    occupied_energy = orbital_energy[:num_occ]\n",
    "    virtual_energy = orbital_energy[num_occ:]\n",
    "    occupied_matrix = orbital_matrix[:,:num_occ]\n",
    "    virtual_matrix = orbital_matrix[:,num_occ:]\n",
    "\n",
    "    return occupied_energy, virtual_energy, occupied_matrix, virtual_matrix\n",
    "\n",
    "occupied_energy, virtual_energy, occupied_matrix, virtual_matrix = partition_orbitals(fock_matrix)\n",
    "\n",
    "np.set_printoptions(precision=6)\n",
    "print(f'occupied orbital energies:\\n {occupied_energy}')\n",
    "print(\"virtual orbital energies:\\n\", virtual_energy)"
   ]
  },
  {
   "cell_type": "markdown",
   "metadata": {},
   "source": [
    "We use the factored form of $V_{p,q,r,s}$ to reduce our intermediate memory usage, but we do need to explicitly store $\\tilde{V}_{a,i,b,j}$,\n",
    "\n",
    "$$ \\begin{align}\n",
    "   \\tilde{\\chi}_{a,i,p} &= \\sum_{q,r} \\phi_{q,a} \\phi_{r,i} \\chi_{q,r,p} \\\\\n",
    "   \\tilde{V}_{a,i,b,j} &= \\sum_{p,q} \\tilde{\\chi}_{a,i,p} V_{p,q}^{\\mathrm{ee}} \\tilde{\\chi}_{b,j,q}\n",
    "   \\end{align} $$"
   ]
  },
  {
   "cell_type": "code",
   "execution_count": 20,
   "metadata": {},
   "outputs": [
    {
     "name": "stdout",
     "output_type": "stream",
     "text": [
      "[[[[ 1.731366e-02 -1.433257e-16 -3.130095e-16 -7.048396e-17\n",
      "     7.615089e-17 -3.880551e-16]\n",
      "   [ 1.211575e-15 -2.375191e-17  2.013736e-16 -6.020171e-16\n",
      "     4.626225e-16  1.731294e-02]]\n",
      "\n",
      "  [[-1.422858e-16  1.165685e-02  2.337239e-18  3.004818e-16\n",
      "    -3.942968e-16  1.647937e-17]\n",
      "   [-6.314153e-17  4.008805e-16  3.321779e-17 -9.896433e-03\n",
      "     6.159533e-03 -7.465513e-16]]\n",
      "\n",
      "  [[-3.131585e-16  2.306178e-18  1.165685e-02 -3.350845e-16\n",
      "    -5.913206e-16 -1.927577e-16]\n",
      "   [-8.106758e-17  1.822438e-16  6.293585e-16  6.159533e-03\n",
      "     9.896433e-03 -5.787856e-16]]\n",
      "\n",
      "  [[-7.068442e-17  2.997418e-16 -3.353079e-16  3.431455e-04\n",
      "    -3.383388e-19  2.189895e-16]\n",
      "   [ 2.142171e-16 -2.913238e-04  1.813197e-04 -3.709830e-16\n",
      "    -1.294489e-16 -7.445758e-17]]\n",
      "\n",
      "  [[ 7.617066e-17 -3.941511e-16 -5.915395e-16  2.840810e-19\n",
      "     3.431455e-04  7.711737e-17]\n",
      "   [ 9.525391e-17  1.813197e-04  2.913238e-04  1.888222e-17\n",
      "    -6.666557e-16  7.457956e-17]]\n",
      "\n",
      "  [[-3.877456e-16  1.662751e-17 -1.927096e-16  2.191971e-16\n",
      "     7.701050e-17 -5.160319e-03]\n",
      "   [-5.314696e-03  1.227271e-16  3.068009e-16 -6.071532e-17\n",
      "    -1.301043e-16 -1.192162e-15]]]\n",
      "\n",
      "\n",
      " [[[ 1.211148e-15 -6.331874e-17 -8.084142e-17  2.146338e-16\n",
      "     9.544743e-17 -5.314696e-03]\n",
      "   [-5.464489e-03  1.442274e-16  3.231824e-16  6.808790e-17\n",
      "    -7.654467e-17  3.837510e-16]]\n",
      "\n",
      "  [[-2.366634e-17  4.006735e-16  1.825988e-16 -2.913238e-04\n",
      "     1.813197e-04  1.228324e-16]\n",
      "   [ 1.444194e-16  3.431384e-04 -4.658681e-20 -2.968529e-16\n",
      "     3.925786e-16 -2.127747e-17]]\n",
      "\n",
      "  [[ 2.008848e-16  3.335987e-17  6.283321e-16  1.813197e-04\n",
      "     2.913238e-04  3.067867e-16]\n",
      "   [ 3.228596e-16 -2.277610e-19  3.431384e-04  3.330760e-16\n",
      "     5.865898e-16  1.975545e-16]]\n",
      "\n",
      "  [[-6.027520e-16 -9.896433e-03  6.159533e-03 -3.713040e-16\n",
      "     1.861001e-17 -6.024247e-17]\n",
      "   [ 6.798135e-17 -2.970175e-16  3.333764e-16  1.165660e-02\n",
      "     0.000000e+00 -2.296467e-16]]\n",
      "\n",
      "  [[ 4.639114e-16  6.159533e-03  9.896433e-03 -1.297741e-16\n",
      "    -6.660389e-16 -1.299801e-16]\n",
      "   [-7.700188e-17  3.938340e-16  5.880181e-16 -4.336809e-19\n",
      "     1.165660e-02 -8.003977e-17]]\n",
      "\n",
      "  [[ 1.731294e-02 -7.466952e-16 -5.786298e-16 -7.428587e-17\n",
      "     7.466639e-17 -1.192064e-15]\n",
      "   [ 3.806520e-16 -2.152497e-17  1.977331e-16 -2.291486e-16\n",
      "    -8.099522e-17  1.731222e-02]]]]\n"
     ]
    }
   ],
   "source": [
    "def transform_interaction_tensor(occupied_matrix, virtual_matrix, interaction_matrix, chi_tensor):\n",
    "    '''Returns a transformed V tensor defined by the input occupied, virtual, & interaction matrices.'''\n",
    "    chi2_tensor = np.einsum('qa,ri,qrp', virtual_matrix, occupied_matrix, chi_tensor, optimize=True)\n",
    "    interaction_tensor = np.einsum('aip,pq,bjq->aibj', chi2_tensor, interaction_matrix, chi2_tensor, optimize=True)\n",
    "    return interaction_tensor\n",
    "\n",
    "interaction_tensor = transform_interaction_tensor(occupied_matrix, virtual_matrix, interaction_matrix, chi_tensor)\n",
    "print(interaction_tensor)"
   ]
  },
  {
   "cell_type": "markdown",
   "metadata": {},
   "source": [
    "In this simple implementation, we are not taking full advantage of the sparisty of the initial $\\chi$ tensor. Unlike the $V$ tensor, the $\\tilde{V}$ tensor is constructed explicitly and stored in memory. The MP2 correction to the total energy is then just a large summation over previously computed and stored quantities,\n",
    "\n",
    "$$ E_{\\mathrm{MP2}} = - \\sum_{a,b \\in \\mathrm{virt}} \\sum_{i,j \\in \\mathrm{occ}} \\frac{2 \\tilde{V}_{a,i,b,j}^2 - \\tilde{V}_{a,i,b,j} \\tilde{V}_{a,j,b,i}}{E_a + E_b - E_i - E_j} . $$"
   ]
  },
  {
   "cell_type": "code",
   "execution_count": 21,
   "metadata": {},
   "outputs": [
    {
     "name": "stdout",
     "output_type": "stream",
     "text": [
      "-0.0015569074917348323\n"
     ]
    }
   ],
   "source": [
    "def calculate_energy_mp2(fock_matrix, interaction_matrix, chi_tensor):\n",
    "    '''Returns the MP2 contribution to the total energy defined by the input Fock & interaction matrices.'''\n",
    "    E_occ, E_virt, occupied_matrix, virtual_matrix = partition_orbitals(fock_matrix)\n",
    "    V_tilde = transform_interaction_tensor(occupied_matrix, virtual_matrix, interaction_matrix, chi_tensor)\n",
    "\n",
    "    energy_mp2 = 0.0\n",
    "    num_occ = len(E_occ)\n",
    "    num_virt = len(E_virt)\n",
    "    for a in range(num_virt):\n",
    "        for b in range(num_virt):\n",
    "            for i in range(num_occ):\n",
    "                for j in range(num_occ):\n",
    "                    energy_mp2 -= ( (2.0*V_tilde[a,i,b,j]**2 - V_tilde[a,i,b,j]*V_tilde[a,j,b,i])\n",
    "                                    /(E_virt[a] + E_virt[b] - E_occ[i] - E_occ[j]) )\n",
    "    return energy_mp2\n",
    "\n",
    "energy_mp2 = calculate_energy_mp2(fock_matrix, interaction_matrix, chi_tensor)\n",
    "print(energy_mp2)"
   ]
  },
  {
   "cell_type": "markdown",
   "metadata": {},
   "source": [
    "The bottleneck of MP2 calculations is the formation of $\\tilde{V}$ from $\\tilde{\\chi}$ and $V^{\\mathrm{ee}}$, which scales as $O(n^5)$ operations for $n$ atoms because of 4 free tensor indices and 1 summed tensor index once the contraction has been optimally arranged into intermediate operations.\n",
    "\n",
    "## (Extra Credit) 5. Alternative Fock matrix construction\n",
    "\n",
    "The previous implementation of Fock matrix construction,\n",
    "\n",
    "$$ f_{p,q} = h_{p,q} + \\sum_{r,s,t,u} ( 2 \\chi_{p,q,t} \\chi_{r,s,u} - \\chi_{r,q,t} \\chi_{p,s,u} )\n",
    "                             V_{t,u}^{\\mathrm{ee}} \\rho_{r,s}, $$\n",
    "\n",
    "did not utilize the sparsity of the $\\chi$ tensor. As a result, its computational cost scaling is not as low as it could be, and it will have poor performance for large system sizes. We can improve the scaling by making use of the fact that $\\chi_{p,q,r}$ is only non-zero when all of its indices are on the same atom:"
   ]
  },
  {
   "cell_type": "code",
   "execution_count": 28,
   "metadata": {},
   "outputs": [
    {
     "name": "stdout",
     "output_type": "stream",
     "text": [
      "[[ 7.638814e-01  1.459200e-03  1.945601e-03  2.432001e-03 -8.847359e-04\n",
      "   1.013567e-03  1.351422e-03  1.689278e-03]\n",
      " [ 1.459200e-03 -5.001150e-01  7.765454e-07  9.706817e-07 -1.013567e-03\n",
      "  -2.533098e-03  2.508454e-03  3.135567e-03]\n",
      " [ 1.945601e-03  7.765454e-07 -5.001146e-01  1.294242e-06 -1.351422e-03\n",
      "   2.508454e-03 -1.069834e-03  4.180757e-03]\n",
      " [ 2.432001e-03  9.706817e-07  1.294242e-06 -5.001140e-01 -1.689278e-03\n",
      "   3.135567e-03  4.180757e-03  8.115068e-04]\n",
      " [-8.847359e-04 -1.013567e-03 -1.351422e-03 -1.689278e-03  7.638814e-01\n",
      "  -1.459200e-03 -1.945601e-03 -2.432001e-03]\n",
      " [ 1.013567e-03 -2.533098e-03  2.508454e-03  3.135567e-03 -1.459200e-03\n",
      "  -5.001150e-01  7.765454e-07  9.706817e-07]\n",
      " [ 1.351422e-03  2.508454e-03 -1.069834e-03  4.180757e-03 -1.945601e-03\n",
      "   7.765454e-07 -5.001146e-01  1.294242e-06]\n",
      " [ 1.689278e-03  3.135567e-03  4.180757e-03  8.115068e-04 -2.432001e-03\n",
      "   9.706817e-07  1.294242e-06 -5.001140e-01]]\n",
      "[[ 7.638814e-01  1.459200e-03  1.945601e-03  2.432001e-03 -8.847359e-04\n",
      "   1.013567e-03  1.351422e-03  1.689278e-03]\n",
      " [ 1.459200e-03 -5.001150e-01  7.765454e-07  9.706817e-07 -1.013567e-03\n",
      "  -2.533098e-03  2.508454e-03  3.135567e-03]\n",
      " [ 1.945601e-03  7.765454e-07 -5.001146e-01  1.294242e-06 -1.351422e-03\n",
      "   2.508454e-03 -1.069834e-03  4.180757e-03]\n",
      " [ 2.432001e-03  9.706817e-07  1.294242e-06 -5.001140e-01 -1.689278e-03\n",
      "   3.135567e-03  4.180757e-03  8.115068e-04]\n",
      " [-8.847359e-04 -1.013567e-03 -1.351422e-03 -1.689278e-03  7.638814e-01\n",
      "  -1.459200e-03 -1.945601e-03 -2.432001e-03]\n",
      " [ 1.013567e-03 -2.533098e-03  2.508454e-03  3.135567e-03 -1.459200e-03\n",
      "  -5.001150e-01  7.765454e-07  9.706817e-07]\n",
      " [ 1.351422e-03  2.508454e-03 -1.069834e-03  4.180757e-03 -1.945601e-03\n",
      "   7.765454e-07 -5.001146e-01  1.294242e-06]\n",
      " [ 1.689278e-03  3.135567e-03  4.180757e-03  8.115068e-04 -2.432001e-03\n",
      "   9.706817e-07  1.294242e-06 -5.001140e-01]]\n"
     ]
    }
   ],
   "source": [
    "def calculate_fock_matrix_fast(hamiltonian_matrix, interaction_matrix, density_matrix, model_parameters):\n",
    "    '''Returns the Fock matrix defined by the input Hamiltonian, interaction, & density matrices.'''\n",
    "    ndof = np.size(hamiltonian_matrix,0)\n",
    "    fock_matrix = hamiltonian_matrix.copy()\n",
    "    # Hartree potential term\n",
    "    for p in range(ndof):\n",
    "        for orb_q in orbital_types:\n",
    "            q = ao_index(atom(p), orb_q) # p & q on same atom\n",
    "            for orb_t in orbital_types:\n",
    "                t = ao_index(atom(p), orb_t) # p & t on same atom\n",
    "                chi_pqt = chi_on_atom(orb(p), orb_q, orb_t, model_parameters)\n",
    "                for r in range(ndof):\n",
    "                    for orb_s in orbital_types:\n",
    "                        s = ao_index(atom(r), orb_s) # r & s on same atom\n",
    "                        for orb_u in orbital_types:\n",
    "                            u = ao_index(atom(r), orb_u) # r & u on same atom\n",
    "                            chi_rsu = chi_on_atom(orb(r), orb_s, orb_u, model_parameters)\n",
    "                            fock_matrix[p,q] += 2.0 * chi_pqt * chi_rsu * interaction_matrix[t,u] * density_matrix[r,s]\n",
    "    # Fock exchange term\n",
    "    for p in range(ndof):\n",
    "        for orb_s in orbital_types:\n",
    "            s = ao_index(atom(p), orb_s) # p & s on same atom\n",
    "            for orb_u in orbital_types:\n",
    "                u = ao_index(atom(p), orb_u) # p & u on same atom\n",
    "                chi_psu = chi_on_atom(orb(p), orb_s, orb_u, model_parameters)\n",
    "                for q in range(ndof):\n",
    "                    for orb_r in orbital_types:\n",
    "                        r = ao_index(atom(q), orb_r) # q & r on same atom\n",
    "                        for orb_t in orbital_types:\n",
    "                            t = ao_index(atom(q), orb_t) # q & t on same atom\n",
    "                            chi_rqt = chi_on_atom(orb_r, orb(q), orb_t, model_parameters)\n",
    "                            fock_matrix[p,q] -= chi_rqt * chi_psu * interaction_matrix[t,u] * density_matrix[r,s]\n",
    "    return fock_matrix\n",
    "\n",
    "fock_matrix = calculate_fock_matrix(hamiltonian_matrix, interaction_matrix, density_matrix, chi_tensor)\n",
    "print(fock_matrix)\n",
    "fock_matrix = calculate_fock_matrix_fast(hamiltonian_matrix, interaction_matrix, density_matrix, model_parameters)\n",
    "print(fock_matrix)"
   ]
  },
  {
   "cell_type": "markdown",
   "metadata": {},
   "source": [
    "This algorithm is much more complicated to implement and it is doing something that should be avoided at all costs in Python: deeply nested for loops. While this algorithm has good scaling, we will soon observe a very large cost prefactor in its performance. We can compare the performance of these algorithms by setting up a sequence of Argon clusters of increasing size:"
   ]
  },
  {
   "cell_type": "code",
   "execution_count": 39,
   "metadata": {},
   "outputs": [
    {
     "name": "stdout",
     "output_type": "stream",
     "text": [
      "2.3796999812475406e-05\n",
      "base matrix construction time = 0.010139219999473426\n",
      "slow Fock construction time = 0.001572170000144979\n",
      "fast Fock construction time = 0.03001225000116392\n",
      "base matrix construction time = 0.20021496700064745\n",
      "slow Fock construction time = 0.011687132000588463\n",
      "fast Fock construction time = 4.596778852999705\n",
      "base matrix construction time = 1.2176407539991487\n",
      "slow Fock construction time = 0.19121644200095034\n",
      "fast Fock construction time = 35.572253618000104\n",
      "base matrix construction time = 3.9712670640001306\n",
      "slow Fock construction time = 2.809035756999947\n"
     ]
    },
    {
     "ename": "KeyboardInterrupt",
     "evalue": "",
     "output_type": "error",
     "traceback": [
      "\u001b[0;31m---------------------------------------------------------------------------\u001b[0m",
      "\u001b[0;31mKeyboardInterrupt\u001b[0m                         Traceback (most recent call last)",
      "\u001b[0;32m<ipython-input-39-0c26bc10ead8>\u001b[0m in \u001b[0;36m<module>\u001b[0;34m\u001b[0m\n\u001b[1;32m     31\u001b[0m     \u001b[0mtime3\u001b[0m \u001b[0;34m=\u001b[0m \u001b[0mtimer\u001b[0m\u001b[0;34m(\u001b[0m\u001b[0;34m)\u001b[0m\u001b[0;34m\u001b[0m\u001b[0;34m\u001b[0m\u001b[0m\n\u001b[1;32m     32\u001b[0m     \u001b[0mprint\u001b[0m\u001b[0;34m(\u001b[0m\u001b[0;34m'slow Fock construction time ='\u001b[0m\u001b[0;34m,\u001b[0m\u001b[0mtime3\u001b[0m\u001b[0;34m-\u001b[0m\u001b[0mtime2\u001b[0m\u001b[0;34m)\u001b[0m\u001b[0;34m\u001b[0m\u001b[0;34m\u001b[0m\u001b[0m\n\u001b[0;32m---> 33\u001b[0;31m     \u001b[0mfock_matrix\u001b[0m \u001b[0;34m=\u001b[0m \u001b[0mcalculate_fock_matrix_fast\u001b[0m\u001b[0;34m(\u001b[0m\u001b[0mhamiltonian_matrix\u001b[0m\u001b[0;34m,\u001b[0m \u001b[0minteraction_matrix\u001b[0m\u001b[0;34m,\u001b[0m \u001b[0mdensity_matrix\u001b[0m\u001b[0;34m,\u001b[0m \u001b[0mmodel_parameters\u001b[0m\u001b[0;34m)\u001b[0m\u001b[0;34m\u001b[0m\u001b[0;34m\u001b[0m\u001b[0m\n\u001b[0m\u001b[1;32m     34\u001b[0m     \u001b[0mtime4\u001b[0m \u001b[0;34m=\u001b[0m \u001b[0mtimer\u001b[0m\u001b[0;34m(\u001b[0m\u001b[0;34m)\u001b[0m\u001b[0;34m\u001b[0m\u001b[0;34m\u001b[0m\u001b[0m\n\u001b[1;32m     35\u001b[0m     \u001b[0mprint\u001b[0m\u001b[0;34m(\u001b[0m\u001b[0;34m'fast Fock construction time ='\u001b[0m\u001b[0;34m,\u001b[0m\u001b[0mtime4\u001b[0m\u001b[0;34m-\u001b[0m\u001b[0mtime3\u001b[0m\u001b[0;34m)\u001b[0m\u001b[0;34m\u001b[0m\u001b[0;34m\u001b[0m\u001b[0m\n",
      "\u001b[0;32m<ipython-input-28-d46d2ef4b75e>\u001b[0m in \u001b[0;36mcalculate_fock_matrix_fast\u001b[0;34m(hamiltonian_matrix, interaction_matrix, density_matrix, model_parameters)\u001b[0m\n\u001b[1;32m     30\u001b[0m                             \u001b[0mt\u001b[0m \u001b[0;34m=\u001b[0m \u001b[0mao_index\u001b[0m\u001b[0;34m(\u001b[0m\u001b[0matom\u001b[0m\u001b[0;34m(\u001b[0m\u001b[0mq\u001b[0m\u001b[0;34m)\u001b[0m\u001b[0;34m,\u001b[0m \u001b[0morb_t\u001b[0m\u001b[0;34m)\u001b[0m \u001b[0;31m# q & t on same atom\u001b[0m\u001b[0;34m\u001b[0m\u001b[0;34m\u001b[0m\u001b[0m\n\u001b[1;32m     31\u001b[0m                             \u001b[0mchi_rqt\u001b[0m \u001b[0;34m=\u001b[0m \u001b[0mchi_on_atom\u001b[0m\u001b[0;34m(\u001b[0m\u001b[0morb_r\u001b[0m\u001b[0;34m,\u001b[0m \u001b[0morb\u001b[0m\u001b[0;34m(\u001b[0m\u001b[0mq\u001b[0m\u001b[0;34m)\u001b[0m\u001b[0;34m,\u001b[0m \u001b[0morb_t\u001b[0m\u001b[0;34m,\u001b[0m \u001b[0mmodel_parameters\u001b[0m\u001b[0;34m)\u001b[0m\u001b[0;34m\u001b[0m\u001b[0;34m\u001b[0m\u001b[0m\n\u001b[0;32m---> 32\u001b[0;31m                             \u001b[0mfock_matrix\u001b[0m\u001b[0;34m[\u001b[0m\u001b[0mp\u001b[0m\u001b[0;34m,\u001b[0m\u001b[0mq\u001b[0m\u001b[0;34m]\u001b[0m \u001b[0;34m-=\u001b[0m \u001b[0mchi_rqt\u001b[0m \u001b[0;34m*\u001b[0m \u001b[0mchi_psu\u001b[0m \u001b[0;34m*\u001b[0m \u001b[0minteraction_matrix\u001b[0m\u001b[0;34m[\u001b[0m\u001b[0mt\u001b[0m\u001b[0;34m,\u001b[0m\u001b[0mu\u001b[0m\u001b[0;34m]\u001b[0m \u001b[0;34m*\u001b[0m \u001b[0mdensity_matrix\u001b[0m\u001b[0;34m[\u001b[0m\u001b[0mr\u001b[0m\u001b[0;34m,\u001b[0m\u001b[0ms\u001b[0m\u001b[0;34m]\u001b[0m\u001b[0;34m\u001b[0m\u001b[0;34m\u001b[0m\u001b[0m\n\u001b[0m\u001b[1;32m     33\u001b[0m     \u001b[0;32mreturn\u001b[0m \u001b[0mfock_matrix\u001b[0m\u001b[0;34m\u001b[0m\u001b[0;34m\u001b[0m\u001b[0m\n\u001b[1;32m     34\u001b[0m \u001b[0;34m\u001b[0m\u001b[0m\n",
      "\u001b[0;31mKeyboardInterrupt\u001b[0m: "
     ]
    }
   ],
   "source": [
    "from timeit import default_timer as timer\n",
    "\n",
    "def build_fcc_cluster(radius, lattice_constant):\n",
    "    vec1 = np.array([lattice_constant, lattice_constant, 0.0])\n",
    "    vec2 = np.array([lattice_constant, 0.0, lattice_constant])\n",
    "    vec3 = np.array([0.0, lattice_constant, lattice_constant])\n",
    "    max_index = int(radius/np.linalg.norm(vec1))\n",
    "    atomic_coordinates = np.array([ i*vec1 + j*vec2 + k*vec3 for i in range(-max_index, max_index+1)\n",
    "                                                             for j in range(-max_index, max_index+1)\n",
    "                                                             for k in range(-max_index, max_index+1)\n",
    "                                                             if np.linalg.norm(i*vec1 + j*vec2 + k*vec3) <= radius ])\n",
    "    return atomic_coordinates\n",
    "\n",
    "\n",
    "start = timer()\n",
    "# ...\n",
    "end = timer()\n",
    "print(end - start)\n",
    "\n",
    "for radius in np.arange(10.0,100.0,10.0):\n",
    "    coord = build_fcc_cluster(radius, 9.9)\n",
    "    \n",
    "    time1 = timer()\n",
    "    density_matrix = calculate_atomic_density_matrix(coord)\n",
    "    hamiltonian_matrix = calculate_hamiltonian_matrix(coord, model_parameters)\n",
    "    interaction_matrix = calculate_interaction_matrix(coord, model_parameters)\n",
    "    chi_tensor = calculate_chi_tensor(coord, model_parameters)\n",
    "    time2 = timer()\n",
    "    print('base matrix construction time =',time2-time1)\n",
    "    fock_matrix = calculate_fock_matrix(hamiltonian_matrix, interaction_matrix, density_matrix, chi_tensor)\n",
    "    time3 = timer()\n",
    "    print('slow Fock construction time =',time3-time2)\n",
    "    fock_matrix = calculate_fock_matrix_fast(hamiltonian_matrix, interaction_matrix, density_matrix, model_parameters)\n",
    "    time4 = timer()\n",
    "    print('fast Fock construction time =',time4-time3)"
   ]
  },
  {
   "cell_type": "markdown",
   "metadata": {},
   "source": [
    "We could improve the implementation of Fock matrix construction in Python by organizing much of the work as dense matrix-matrix multiplications on small blocks of the matrix, which involves more sophisticated bookkeeping. Another way to improve its implementation is simply to port it as-is to C or C++, which have very low performance overheads in nested for loops.\n",
    "\n",
    "## (Extra Credit) 6. Semiempirical model parameterization\n",
    "\n",
    "For a semiempirical model to be useful, it must be parameterized to fit a set of reference data, usually from experiments or high-accuracy quantum chemistry simulation data. The parameters in this project have already been fit to data, which was carried out using the fitting procedure implemented in this section. Data fitting is an optimization problem, and we can make use of pre-existing Python optimization tools by encapsulating the fitting process into a function that inputs a list of parameters and outputs a fitting error that we want to minimize. We begin with our reference data, which is the set of occupied orbital energies, Hartree-Fock binding energies, and MP2 binding energies from all-electron calculations of Argon dimers at various separation distances:"
   ]
  },
  {
   "cell_type": "code",
   "execution_count": 26,
   "metadata": {},
   "outputs": [],
   "source": [
    "# HF energy & MP2 energy of the p shell (defined from an ionic reference)\n",
    "reference_atom = [ -11.1365366, -0.2033644 ]\n",
    "\n",
    "# distance, HF binding energy, MP2 binding energy, 6 occupied HF orbital energies\n",
    "reference_dimer = [ [ 5.67, 0.0064861, -0.0037137, -0.620241, -0.595697, -0.595697, -0.584812, -0.584812, -0.561277 ],\n",
    "                    [ 6.24, 0.0022351, -0.0020972, -0.608293, -0.593456, -0.593456, -0.587742, -0.587742, -0.573604 ],\n",
    "                    [ 6.99, 0.0005255, -0.0010120, -0.599442, -0.592082, -0.592082, -0.589651, -0.589651, -0.582576 ],\n",
    "                    [ 7.18, 0.0003642, -0.0008494, -0.598041, -0.591886, -0.591886, -0.589922, -0.589922, -0.583988 ],\n",
    "                    [ 8.32, 0.0000377, -0.0003159, -0.593344, -0.591281, -0.591281, -0.590731, -0.590731, -0.588708 ],\n",
    "                    [ 10.21, 0.000000, -0.0000757, -0.591378, -0.591059, -0.591059, -0.590993, -0.590993, -0.590675 ] ]"
   ]
  },
  {
   "cell_type": "markdown",
   "metadata": {},
   "source": [
    "We then write a function that encapsulates all of the setup and solving from earlier in the notebook to generate model predictions of the reference data:"
   ]
  },
  {
   "cell_type": "code",
   "execution_count": 23,
   "metadata": {},
   "outputs": [
    {
     "name": "stdout",
     "output_type": "stream",
     "text": [
      "(array([-0.5, -0.5, -0.5]), -7.5, -0.0001708860759493671)\n",
      "(array([-0.500395, -0.500296, -0.500296, -0.499704, -0.499704, -0.499605]), -14.999999895317742, -0.0003926427536735571)\n",
      "SCF cycle didn't converge\n",
      "1.0 -28.158345684246584 -5.145862709617672\n",
      "SCF cycle didn't converge\n",
      "1.5 -21.843922058666507 -0.3104490708652275\n",
      "SCF cycle didn't converge\n",
      "2.0 -16.495317367548424 -0.1489620972638483\n",
      "2.5 -14.535703028385056 -0.6131965562515803\n",
      "3.0 -14.66645332283192 -0.20412984889355365\n",
      "3.5 -14.77098629027524 -0.0811012209419174\n",
      "4.0 -14.849078513969143 -0.036776279793290845\n",
      "4.5 -14.904799621329595 -0.01843772757146609\n",
      "5.0 -14.942856002857312 -0.010010464041940706\n",
      "5.5 -14.967539731598109 -0.005816605618425238\n",
      "6.0 -14.982610124357613 -0.0035947434585765652\n",
      "6.5 -14.991224580988694 -0.002355319601140366\n",
      "7.0 -14.99582834569597 -0.001632814668017032\n",
      "7.5 -14.99813050781161 -0.0011952386809360917\n",
      "8.0 -14.999209620632605 -0.0009212271711913544\n",
      "8.5 -14.99968464620332 -0.0007445319549807827\n",
      "9.0 -14.99988121620138 -0.0006275992239689463\n",
      "9.5 -14.999957794332923 -0.0005484126736710845\n",
      "10.0 -14.999985864771029 -0.0004936715601706129\n",
      "10.5 -14.999995531938561 -0.0004551216331262346\n",
      "11.0 -14.99999867340853 -0.0004275151627326805\n",
      "11.5 -14.999999624013213 -0.00040744222348732326\n",
      "12.0 -14.999999895317742 -0.0003926427536735571\n",
      "12.5 -14.999999971766666 -0.0003815915027702373\n",
      "13.0 -14.999999993152823 -0.000373241959641287\n",
      "13.5 -14.999999998429152 -0.00036686509297087125\n",
      "14.0 -14.999999999659098 -0.0003619458701441109\n",
      "14.5 -14.999999999930019 -0.00035811569248185517\n",
      "15.0 -14.999999999986409 -0.000355107568946939\n",
      "15.5 -14.9999999999975 -0.0003527259306959506\n",
      "16.0 -14.999999999999567 -0.00035082602199682016\n",
      "16.5 -14.999999999999927 -0.0003492996471389307\n",
      "17.0 -14.99999999999999 -0.0003480651938446267\n",
      "17.5 -14.999999999999996 -0.00034706057096906717\n",
      "18.0 -15.000000000000004 -0.0003462381560676589\n",
      "18.5 -15.000000000000002 -0.00034556114473649897\n",
      "19.0 -15.0 -0.000345000887995255\n",
      "19.5 -15.0 -0.00034453493306373204\n",
      "(array([-0.50615 , -0.50453 , -0.50453 , -0.495701, -0.495701, -0.494102]), -14.99626481655243, -0.001556907530672783)\n"
     ]
    }
   ],
   "source": [
    "def calculate_reference_data(atomic_coordinates, model_parameters):\n",
    "    '''Returns the occupied orbital, HF, & MP2 energies for the input list of atomic coordinates'''\n",
    "    ndof = len(atomic_coordinates)*orbitals_per_atom\n",
    "\n",
    "    energy_ion = calculate_energy_ion(atomic_coordinates)\n",
    "    density_matrix = calculate_atomic_density_matrix(atomic_coordinates)\n",
    "\n",
    "    hamiltonian_matrix = calculate_hamiltonian_matrix(atomic_coordinates, model_parameters)\n",
    "    interaction_matrix = calculate_interaction_matrix(atomic_coordinates, model_parameters)\n",
    "    chi_tensor = calculate_chi_tensor(atomic_coordinates, model_parameters)\n",
    "\n",
    "    density_matrix, fock_matrix = scf_cycle(hamiltonian_matrix, interaction_matrix, density_matrix, chi_tensor)\n",
    "\n",
    "    occupied_energy, virtual_energy, occupied_matrix, virtual_matrix = partition_orbitals(fock_matrix)\n",
    "    energy_scf = calculate_energy_scf(hamiltonian_matrix, fock_matrix, density_matrix)\n",
    "    energy_hf = energy_ion + energy_scf\n",
    "    energy_mp2 = calculate_energy_mp2(fock_matrix, interaction_matrix, chi_tensor)\n",
    "\n",
    "    return occupied_energy, energy_hf, energy_mp2\n",
    "\n",
    "print(calculate_reference_data(np.array([[0.0,0.0,0.0]]),model_parameters))\n",
    "print(calculate_reference_data(np.array([[0.0,0.0,0.0],[12.0,0.0,0.0]]),model_parameters))\n",
    "for r in np.arange(1.0,20.0,0.5):\n",
    "    coord = np.array([[0.0,0.0,0.0],[r,0.0,0.0]])\n",
    "    occupied_energy, energy_hf, energy_mp2 = calculate_reference_data(coord, model_parameters)\n",
    "    print(r, energy_hf, energy_mp2)\n",
    "print(calculate_reference_data(atomic_coordinates, model_parameters))"
   ]
  },
  {
   "cell_type": "markdown",
   "metadata": {},
   "source": [
    "We can then write a function to compare the reference data to predictions for a given set of model parameters:"
   ]
  },
  {
   "cell_type": "code",
   "execution_count": 24,
   "metadata": {},
   "outputs": [
    {
     "ename": "SyntaxError",
     "evalue": "unexpected EOF while parsing (<ipython-input-24-14223cc2f30e>, line 4)",
     "output_type": "error",
     "traceback": [
      "\u001b[0;36m  File \u001b[0;32m\"<ipython-input-24-14223cc2f30e>\"\u001b[0;36m, line \u001b[0;32m4\u001b[0m\n\u001b[0;31m    \u001b[0m\n\u001b[0m    ^\u001b[0m\n\u001b[0;31mSyntaxError\u001b[0m\u001b[0;31m:\u001b[0m unexpected EOF while parsing\n"
     ]
    }
   ],
   "source": [
    "param_list = [ r_sk, t_sss, t_sps, t_pps, t_ppp, r0, r_pp, v_pp, energy_s, energy_p ]\n",
    "\n",
    "def rms_model_error(param_list):\n",
    "    \n"
   ]
  },
  {
   "cell_type": "markdown",
   "metadata": {},
   "source": [
    "Finally, we can use the SciPy optimizer to calculate the optimal model parameters:"
   ]
  },
  {
   "cell_type": "code",
   "execution_count": null,
   "metadata": {},
   "outputs": [],
   "source": []
  },
  {
   "cell_type": "markdown",
   "metadata": {},
   "source": [
    "## (Extra Credit) 7. Localized HF+MP2 calculations\n",
    "\n",
    "Can I relate this section to SAPT?\n",
    "\n",
    "An important area of ongoing research is the use of localization to accelerate QM calculations. Noble gases are an extreme example that enable localization to be applied very aggressively. If we will treat $t_{p,q}^{\\mathrm{SK}}$ as a perturbation, then the Hartree-Fock equations are solved by our initial atomic guess for $\\rho_{p,q}$. The energy contributions from pairs of atoms decays rapidly with distance, and we can ignore pairs of well-separated atoms."
   ]
  },
  {
   "cell_type": "code",
   "execution_count": null,
   "metadata": {},
   "outputs": [],
   "source": [
    "max_distance = 15.0\n",
    "nearby_pairs = [ (i,j) for i in range(num_atoms)\n",
    "                       for j in range(num_atoms)\n",
    "                       if i < j\n",
    "                       and np.linalg.norm(coordinates[i]-coordinates[j]) <= max_distance ]\n",
    "print(nearby_pairs)"
   ]
  },
  {
   "cell_type": "markdown",
   "metadata": {},
   "source": [
    "This is a simple but inefficient method of forming the list of nearby atomic pairs.\n",
    "\n",
    "The localized Hartree-Fock energy can be computed from the independent-atom solutions and a localized sum of pairwise atomic contributions that combine ion-ion, electron-ion, and electron-electron Coulomb energy contributions."
   ]
  },
  {
   "cell_type": "code",
   "execution_count": null,
   "metadata": {},
   "outputs": [],
   "source": [
    "v_ei_onsite = eval_kernel(v_ei_kernel)([0,0,0],[0,0,0])\n",
    "v_ee_onsite = eval_kernel(v_ee_kernel)([0,0,0],[0,0,0])\n",
    "energy_hf_local = num_atoms*Z*(E_P + v_ei_onsite + 0.5*Z*v_ee_onsite)\n",
    "\n",
    "v_atom = eval_kernel(v_ii_kernel + Z*v_ei_kernel + (Z**2)*v_ee_kernel)\n",
    "for pair in nearby_pairs:\n",
    "    r1 = coordinates[pair[0]]\n",
    "    r2 = coordinates[pair[1]]\n",
    "    energy_hf_local += v_atom(r1,r2)"
   ]
  },
  {
   "cell_type": "markdown",
   "metadata": {},
   "source": [
    "In addition to a localized version of the MP2 energy, we must also account for the perturbative correction to the Hartree-Fock energy upon introducing $t_{p,q}^{\\mathrm{SK}}$,\n",
    "\n",
    "$$ E_{\\Delta HF} = - 2 \\sum_{a \\in \\mathrm{virt}} \\sum_{i \\in \\mathrm{occ}} \\frac{(t_{a,i}^{\\mathrm{SK}})^2}{E_a - E_i} . $$\n",
    "\n",
    "The localized MP2 correction is identical to the standard correction, but the $\\tilde{V}$ tensor can be replaced by the $V$ tensor and we can avoid storing and transforming an explicit tensor. In the atomic solution, the $p$ orbitals are occupied and the $s$ orbitals are virtual."
   ]
  },
  {
   "cell_type": "code",
   "execution_count": null,
   "metadata": {},
   "outputs": [],
   "source": [
    "energy_hf_delta = 0.0\n",
    "for pair in nearby_pairs:\n",
    "    r1 = coordinates[pair[0]]\n",
    "    r2 = coordinates[pair[1]]\n",
    "    for o in p_set:\n",
    "        energy_hf_delta -= 2.0*(t_sk('s',o,r1-r2)**2 + t_sk(o,'s',r1-r2)**2) / (E_S - E_P)\n",
    "\n",
    "energy_mp2_local = 0.0\n",
    "for o1 in p_set:\n",
    "    for o2 in p_set:\n",
    "        a = index(0,'s')\n",
    "        b = index(0,'s')\n",
    "        i = index(0,o1)\n",
    "        j = index(0,o2)\n",
    "        energy_mp2_local -= num_atoms*((2.0*v_tensor(a,i,b,j)**2\n",
    "                                        - v_tensor(a,i,b,j)*v_tensor(a,j,b,i))\n",
    "                                        / (2.0*E_S - 2.0*E_P))\n",
    "for pair in nearby_pairs:\n",
    "    for o1 in p_set:\n",
    "        for o2 in p_set:\n",
    "            a = index(pair[0],'s')\n",
    "            b = index(pair[1],'s')\n",
    "            i = index(pair[0],o1)\n",
    "            j = index(pair[1],o2)\n",
    "            energy_mp2_local -= 4.0*v_tensor(a,i,b,j)**2 / (2.0*E_S - 2.0*E_P)\n",
    "\n",
    "print(energy_hf_local,energy_hf_delta,energy_mp2_local)"
   ]
  },
  {
   "cell_type": "markdown",
   "metadata": {},
   "source": [
    "Except for the formation of the nearby atomic pairs list, this entire localized calculation scales as $O(n)$ operations for $n$ atoms. This is an example of a QM calculation that has been stripped down to the point where it can be competitive in cost with simple interatomic potentials."
   ]
  },
  {
   "cell_type": "code",
   "execution_count": null,
   "metadata": {},
   "outputs": [],
   "source": []
  }
 ],
 "metadata": {
  "kernelspec": {
   "display_name": "Python 3",
   "language": "python",
   "name": "python3"
  },
  "language_info": {
   "codemirror_mode": {
    "name": "ipython",
    "version": 3
   },
   "file_extension": ".py",
   "mimetype": "text/x-python",
   "name": "python",
   "nbconvert_exporter": "python",
   "pygments_lexer": "ipython3",
   "version": "3.7.1"
  }
 },
 "nbformat": 4,
 "nbformat_minor": 2
}
