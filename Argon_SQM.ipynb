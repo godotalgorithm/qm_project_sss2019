{
 "cells": [
  {
   "cell_type": "markdown",
   "metadata": {},
   "source": [
    "# 2019 MolSSI Summer School QM project: semiempirical model of Argon\n",
    "\n",
    "## 1. Introduction\n",
    "\n",
    "In this project, we will simulate a cluster of Argon atoms using quantum mechanics (QM) to calculate their total energy. First-principles QM simulations are complicated and expensive, and a quick implementation would rely on a substantial amount of pre-existing software infrastructure. Instead, we will implement a much simpler semiempirical QM simulation that has been designed and parameterized to reproduce first-principles QM data using a minimal model. We can then limit our external dependencies to the standard mathematical functionality of Python: NumPy to build and solve matrix and tensor equations and SymPy to compute analytical derivatives as needed."
   ]
  },
  {
   "cell_type": "code",
   "execution_count": 1,
   "metadata": {},
   "outputs": [],
   "source": [
    "import numpy as np\n",
    "import sympy as sp"
   ]
  },
  {
   "cell_type": "markdown",
   "metadata": {},
   "source": [
    "As is typically the case in quantum chemistry, we will treat the atomi nuclei as classical point charges,\n",
    "\n",
    "$$ \\vec{r}_i = (x_i , y_i, z_i). $$\n",
    "\n",
    "While we would normally want to read these from a file or pass them in as an argument to a function, we will just specify a set of atomic coordinates in this example. Similarly, we will only calculate total energy, whereas more useful software would probably print output data to a file or return it from a function call. You will add such features as you refactor this software."
   ]
  },
  {
   "cell_type": "code",
   "execution_count": 2,
   "metadata": {},
   "outputs": [],
   "source": [
    "coordinates = np.array([ [0.0,0.0,0.0], [8.0,0.0,0.0], [0.0,8.0,0.0], [0.0,0.0,8.0] ])\n",
    "num_atoms = len(coordinates)"
   ]
  },
  {
   "cell_type": "markdown",
   "metadata": {},
   "source": [
    "All physical quantities in this project will be specified in Hartree atomic units, where the bohr is the unit of length and the hartree is the unit of energy.\n",
    "\n",
    "## 2. Model Hamiltonian\n",
    "\n",
    "This semiempirical model will combine some standard concepts and methods used in physics and chemistry. First, it will use a minimal number of electronic degrees of freedom. Because Argon is a noble gas, it interacts primarily through London dispersion forces that are mediated by quantum dipole fluctuations. The lowest energy dipole transition is from the occupied $3p$ states to the unoccupied $4s$ state, and we will include these 4 atomic orbitals per atom. Similarly, we will use a multipole expansion to simplify electronic excitations and retain only the monopole and dipole terms, which also restricts electronic polarization to 4 degrees of freedom per atom. We will use $\\{s, p_x, p_y, p_z\\}$ to label both sets of basis functions."
   ]
  },
  {
   "cell_type": "code",
   "execution_count": 3,
   "metadata": {},
   "outputs": [],
   "source": [
    "orbitals = ['s','px','py','pz']\n",
    "orbitals_per_atom = len(orbitals)\n",
    "ndof = num_atoms*orbitals_per_atom\n",
    "\n",
    "p_set = {'px', 'py', 'pz'}"
   ]
  },
  {
   "cell_type": "markdown",
   "metadata": {},
   "source": [
    "Within our minimal basis, we will describe the electronic state as the ground state of a quantum many-body Hamiltonian $\\hat{H}$. As is standard in quantum chemistry, we begin by writing the Hamiltonian in second quantization notation,\n",
    "\n",
    "$$ \\hat{H} = \\sum_{i < j} \\frac{Z^2}{|\\vec{r}_i - \\vec{r}_j|} + \\sum_{p,q} \\sum_{\\sigma \\in \\{ \\uparrow , \\downarrow \\} } h_{p,q} \\hat{c}_{p,\\sigma}^{\\dagger} \\hat{c}_{q,\\sigma} + \\tfrac{1}{2}\\sum_{p,q,r,s} \\sum_{\\sigma,\\sigma' \\in \\{ \\uparrow , \\downarrow \\} } V_{p,q,r,s} \\hat{c}_{p,\\sigma}^{\\dagger} \\hat{c}_{r,\\sigma'}^{\\dagger} \\hat{c}_{s,\\sigma'} \\hat{c}_{q,\\sigma} , $$\n",
    "\n",
    "where $\\hat{c}_{p,\\sigma}^{\\dagger}$ and $\\hat{c}_{p,\\sigma}$ are the electron raising and lowering operators for an atomic orbital index $p$ and spin $\\sigma$. We will not be using $\\hat{H}$ itself in our calculations, but we will make use of the coefficient tensors $h_{p,q}$ and $V_{p,q,r,s}$. In first-principles calculations, each element of $h_{p,q}$ and $V_{p,q,r,s}$ would require the evaluation of a complicated integral. In our semiempirical model, we will set most of them to zero and assign a simple analytical form to the rest of them. We will also assume that the atomic orbitals are all orthogonal, which avoids having to deal with overlap matrices.\n",
    "\n",
    "While we are mostly writing the initial version of this QM project without defining any functions, we will define a few to simplify the bookkeeping and connections between numerical and symbolic function evaluations:"
   ]
  },
  {
   "cell_type": "code",
   "execution_count": 4,
   "metadata": {},
   "outputs": [],
   "source": [
    "def atom(index0):\n",
    "    return index0 // orbitals_per_atom\n",
    "\n",
    "def orb(index0):\n",
    "    return orbitals[index0 % orbitals_per_atom]\n",
    "\n",
    "def index(atom0,orb0):\n",
    "    return atom0*orbitals_per_atom + orbitals.index(orb0)"
   ]
  },
  {
   "cell_type": "markdown",
   "metadata": {},
   "source": [
    "### A. Slater-Koster tight-binding model\n",
    "\n",
    "We will describe the kinetic energy of electrons using a simplified [Slater-Koster tight-binding method](https://en.wikipedia.org/wiki/Tight_binding). While it is compatible with very general functional forms, we will use Gaussians to simplify the model and make its implementation even easier. The distance-dependent hopping matrix elements are then defined by\n",
    "\n",
    "$$ t_{o,o'}^{\\mathrm{SK}}(\\vec{r}) = \\exp(-r^2/r_{\\mathrm{SK}}^2) \\times \\begin{cases}\n",
    " t_{sss} , & o = o' = s \\\\\n",
    " (\\hat{o}' \\cdot \\vec{r}) t_{sps}, & o = s \\ \\& \\ o' \\in \\{p_x, p_y, p_z\\} \\\\\n",
    " -(\\hat{o}' \\cdot \\vec{r}) t_{sps} , & o' = s \\ \\& \\ o \\in \\{p_x, p_y, p_z\\} \\\\\n",
    " r^2(\\hat{o} \\cdot \\hat{o}')  t_{pps} + (\\hat{o} \\cdot \\vec{r}) (\\hat{o}' \\cdot \\vec{r}) (t_{ppp} - t_{pps}), & o,o' \\in \\{p_x, p_y, p_z\\}\n",
    " \\end{cases} $$\n",
    " \n",
    "where we are using $\\hat{p}_x \\equiv (1,0,0)$, $\\hat{p}_y \\equiv (0,1,0)$, and $\\hat{p}_z \\equiv (0,0,1)$ to simplify the notation. This mathematical structure describes the correct orientational dependence of translation-independent 1-body matrix elements between atomic orbitals without specifying anything except their orbital angular momentum."
   ]
  },
  {
   "cell_type": "code",
   "execution_count": 5,
   "metadata": {},
   "outputs": [],
   "source": [
    "r_SK = 6.5\n",
    "t_sss = 0.04\n",
    "t_sps = 0.03\n",
    "t_pps = 0.02\n",
    "t_ppp = 0.01\n",
    "\n",
    "hat = { 'px':[1,0,0], 'py':[0,1,0], 'pz':[0,0,1] }\n",
    "\n",
    "def t_SK(o1,o2,r12):\n",
    "    r12_squared = np.dot(r12,r12)\n",
    "    ans = np.exp(-r12_squared/r_SK**2)\n",
    "    if o1 == 's' and o2 == 's':\n",
    "        ans *= t_sss\n",
    "    elif o1 == 's' and o2 in p_set:\n",
    "        ans *= np.dot(hat[o2],r12)*t_sps\n",
    "    elif o2 == 's' and o1 in p_set:\n",
    "        ans *= -np.dot(hat[o1],r12)*t_sps\n",
    "    elif o1 in p_set and o2 in p_set:\n",
    "        ans *= ( r12_squared * np.dot(hat[o1],hat[o2]) * t_pps \n",
    "                 + np.dot(hat[o1],r12) * np.dot(hat[o2],r12) * (t_ppp - t_pps) )\n",
    "    return ans"
   ]
  },
  {
   "cell_type": "markdown",
   "metadata": {},
   "source": [
    "The tight-binding contribution to the 1-body matrix elements is $t_{o,o'}^{\\mathrm{SK}}$ for inter-atomic matrix elements and an orbital energy for intra-atomic matrix elements,\n",
    "\n",
    "$$ h^{\\mathrm{SK}}_{p,q} = \\begin{cases}\n",
    " E_{\\mathrm{orb}(p)} , & p = q \\\\\n",
    " t^{\\mathrm{SK}}_{\\mathrm{orb}(p),\\mathrm{orb}(q)}(\\vec{r}_{\\mathrm{atom}(p)} - \\vec{r}_{\\mathrm{atom}(q)})\n",
    "  , & \\mathrm{atom}(p) \\neq \\mathrm{atom}(q) \\\\\n",
    "  0 , & \\mathrm{otherwise}\n",
    "  \\end{cases} $$\n"
   ]
  },
  {
   "cell_type": "code",
   "execution_count": 6,
   "metadata": {},
   "outputs": [],
   "source": [
    "E_p = -0.591029\n",
    "E_s = 0.2\n",
    "\n",
    "orbital_energy = { 's':E_s, 'px':E_p, 'py':E_p, 'pz':E_p }\n",
    "\n",
    "hamiltonian_matrix = np.zeros((ndof,ndof))\n",
    "for i in range(ndof):\n",
    "    for j in range(ndof):\n",
    "        if i == j:\n",
    "            hamiltonian_matrix[i,j] = orbital_energy[orb(i)]\n",
    "        if atom(i) != atom(j):\n",
    "            r12 = coordinates[atom(i)] - coordinates[atom(j)]\n",
    "            hamiltonian_matrix[i,j] = t_SK(orb(i),orb(j),r12)"
   ]
  },
  {
   "cell_type": "markdown",
   "metadata": {},
   "source": [
    "### B. Coulomb interaction\n",
    "\n",
    "The nuclear charge of Argon is 18, but our model combines the nucleus and the 12 neglected electrons ($1s^2$, $2s^2$, $2p^6$, and $3s^2$) as an ionic point charge with $Z = 6$. For the purpose of electrostatics, we will describe the valence electrons as Gaussian charges of width $r_0$. The electron-ion and electron-electron interactions have the same functional form, but the electron-electron interaction has an wider effective width of $\\sqrt{2}r_0$,\n",
    "\n",
    "$$ V^{\\mathrm{eI}}(r) = -Z \\frac{\\mathrm{erf}(r/r_0)}{r} \\\\\n",
    "   V^{\\mathrm{ee}}(r) = \\frac{\\mathrm{erf}(r/(\\sqrt{2}r_0))}{r}. $$\n",
    "\n",
    "These functions can be constructed using SymPy, which will allow us to evaluate analytical derivatives automatically."
   ]
  },
  {
   "cell_type": "code",
   "execution_count": 7,
   "metadata": {},
   "outputs": [],
   "source": [
    "Z = 6.0\n",
    "r_0 = 6.5\n",
    "\n",
    "x1, y1, z1, x2, y2, z2 = sp.symbols('x1 y1 z1 x2 y2 z2')\n",
    "r = sp.sqrt( (x1 - x2)**2 + (y1 - y2)**2 + (z1 - z2)**2 + 1e-16)\n",
    "\n",
    "V_II_kernel = Z**2/r\n",
    "V_eI_kernel = -Z*sp.erf(r/r_0)/r\n",
    "V_ee_kernel = sp.erf(r/(np.sqrt(2.0)*r_0))/r\n",
    "\n",
    "def eval_kernel(K):\n",
    "    return sp.lambdify(([x1,y1,z1],[x2,y2,z2]),K)\n",
    "\n",
    "energy_ion = 0.0\n",
    "V_II = eval_kernel( V_II_kernel )\n",
    "for i, r_i in enumerate(coordinates):\n",
    "    for j, r_j in enumerate(coordinates):\n",
    "        if i < j:\n",
    "            energy_ion += V_II(r_i,r_j)"
   ]
  },
  {
   "cell_type": "markdown",
   "metadata": {},
   "source": [
    "We define a differential operator that will generate our multipole expansions,\n",
    "\n",
    "$$ \\Delta_p = \\begin{cases} 1 , & \\mathrm{orb}(p) = s \\\\ \\frac{d}{d x_{\\mathrm{atom}(p)}} , & \\mathrm{orb}(p) = p_x \\\\\n",
    "\\frac{d}{d y_{\\mathrm{atom}(p)}} , & \\mathrm{orb}(p) = p_y \\\\\n",
    "\\frac{d}{d z_{\\mathrm{atom}(p)}} , & \\mathrm{orb}(p) = p_z \\\\\n",
    "\\end{cases}, $$"
   ]
  },
  {
   "cell_type": "code",
   "execution_count": 8,
   "metadata": {},
   "outputs": [],
   "source": [
    "def grad1(K,orb1):\n",
    "    if orb1 == 's': return K\n",
    "    elif orb1 == 'px': return sp.diff(K,x1)\n",
    "    elif orb1 == 'py': return sp.diff(K,y1)\n",
    "    elif orb1 == 'pz': return sp.diff(K,z1)\n",
    "\n",
    "def grad2(K,orb2):\n",
    "    if orb2 == 's': return K\n",
    "    elif orb2 == 'px': return sp.diff(K,x2)\n",
    "    elif orb2 == 'py': return sp.diff(K,y2)\n",
    "    elif orb2 == 'pz': return sp.diff(K,z2)"
   ]
  },
  {
   "cell_type": "markdown",
   "metadata": {},
   "source": [
    "both for the vector of electron-ion potential matrix elements,\n",
    "\n",
    "$$ V^{\\mathrm{eI}}_p = \\sum_{i} \\Delta_p V^{\\mathrm{eI}}(|\\vec{R}_{\\mathrm{atom}(p)} - \\vec{R}_i|) , $$\n",
    "\n",
    "and the matrix of electron-electron interaction matrix elements,\n",
    "\n",
    "$$ V^{\\mathrm{ee}}_{p,q} = \\Delta_p \\Delta_q V^{\\mathrm{ee}}(|\\vec{R}_{\\mathrm{atom}(p)} - \\vec{R}_{\\mathrm{atom}(q)}|) . $$\n",
    " "
   ]
  },
  {
   "cell_type": "code",
   "execution_count": 9,
   "metadata": {},
   "outputs": [],
   "source": [
    "potential_vector = np.zeros(ndof)\n",
    "for orb_i in orbitals:\n",
    "    V_eI = eval_kernel( grad1(V_eI_kernel,orb_i) )\n",
    "    for atom_i,r_i in enumerate(coordinates):\n",
    "        i = index(atom_i,orb_i)\n",
    "        for r_j in coordinates:\n",
    "            potential_vector[i] += V_eI(r_i,r_j)\n",
    "\n",
    "interaction_matrix = np.empty((ndof,ndof))\n",
    "for orb_i in orbitals:\n",
    "    for orb_j in orbitals:\n",
    "        V_ee = eval_kernel( grad2(grad1(V_ee_kernel,orb_i),orb_j) )\n",
    "        for atom_i,r_i in enumerate(coordinates):\n",
    "            i = index(atom_i,orb_i)\n",
    "            for atom_j,r_j in enumerate(coordinates):\n",
    "                j = index(atom_j,orb_j)\n",
    "                interaction_matrix[i,j] = V_ee(r_i,r_j)"
   ]
  },
  {
   "cell_type": "markdown",
   "metadata": {},
   "source": [
    "### C. Multipole decomposition\n",
    "\n",
    "To define $V_{p,q,r,s}$ based on the Coulomb matrix elements $V_{p,q}^{\\mathrm{ee}}$, we need to define a mapping from products of atomic orbitals to a linear combination of terms in the multipole expansion of electronic charge. Because the atomic orbitals are normalized, their monopole coefficient with themselves is 1 (i.e. they have unit charge). Because of orthogonality, there is no monopole term for either intra-atomic or inter-atomic transitions between atomic orbitals. We will ignore dipole transitions between atoms, which corresponds to the [neglect of diatomic differential overlap](https://en.wikipedia.org/wiki/NDDO) (NDDO) approximation that is commonly used in semiempirical quantum chemistry. All that remains is the intra-atomic s-p transition, and we will use a parameter $\\alpha$ to define its dipole strength. These transformation rules are all contained in a tensor\n",
    "\n",
    "$$ \\chi_{p, q}^{r} = \\begin{cases} 1, & \\mathrm{orb}(p) = \\mathrm{orb}(q) \\ \\& \\ \\mathrm{orb}(r) = s \\ \\& \\ \\mathrm{atom}(p) = \\mathrm{atom}(q) = \\mathrm{atom}(r) \\\\ \n",
    " \\alpha , & \\mathrm{orb}(q) = \\mathrm{orb}(r) \\in \\{p_x, p_y, p_z\\} \\ \\& \\ \\mathrm{orb}(p) = s \\ \\& \\ \\mathrm{atom}(p) = \\mathrm{atom}(q) = \\mathrm{atom}(r) \\\\\n",
    " \\alpha , & \\mathrm{orb}(p) = \\mathrm{orb}(r) \\in \\{p_x, p_y, p_z\\} \\ \\& \\ \\mathrm{orb}(q) = s \\ \\& \\ \\mathrm{atom}(p) = \\mathrm{atom}(q) = \\mathrm{atom}(r) \\\\\n",
    " 0, & \\mathrm{otherwise} \\end{cases} . $$"
   ]
  },
  {
   "cell_type": "code",
   "execution_count": 10,
   "metadata": {},
   "outputs": [],
   "source": [
    "alpha = 0.1\n",
    "\n",
    "def atom_chi(o1,o2,o3):\n",
    "    if o1 == o2 and o3 == 's':\n",
    "        return 1.0\n",
    "    elif o1 == o3 and o3 in p_set and o2 == 's':\n",
    "        return alpha\n",
    "    elif o2 == o3 and o3 in p_set and o1 == 's':\n",
    "        return alpha\n",
    "    else:\n",
    "        return 0.0"
   ]
  },
  {
   "cell_type": "markdown",
   "metadata": {},
   "source": [
    "The multipole expansion plays the same role as an auxiliary basis set in modern resolution-of-identity (RI) methods that are used to accelerate large quantum chemistry simulations. We can also use it to define the potential term to complete the 1-body matrix elements,\n",
    "\n",
    "$$ h_{p,q} = h_{p,q}^{\\mathrm{SK}} + \\sum_{r} \\chi_{p,q}^r V_{r}^{\\mathrm{eI}}, $$\n",
    "\n",
    "and the full tensor of 2-body Coulomb matrix elements,\n",
    "\n",
    "$$ V_{p,q,r,s} = \\sum_{t,u} \\chi_{p,q}^t V_{t,u}^{\\mathrm{ee}} \\chi_{r,s}^u . $$"
   ]
  },
  {
   "cell_type": "code",
   "execution_count": 11,
   "metadata": {},
   "outputs": [],
   "source": [
    "for k in range(ndof):\n",
    "    for orb_i in orbitals:\n",
    "        for orb_j in orbitals:\n",
    "            i = index(atom(k),orb_i)\n",
    "            j = index(atom(k),orb_j)\n",
    "            hamiltonian_matrix[i,j] += atom_chi(orb_i,orb_j,orb(k)) * potential_vector[k]\n",
    "            \n",
    "def V_tensor(p,q,r,s):\n",
    "    ans = 0.0\n",
    "    if atom(p) != atom(q) or atom(r) != atom(s):\n",
    "        return ans\n",
    "    for o1 in orbitals:\n",
    "        i1 = index(atom(p),o1)\n",
    "        for o2 in orbitals:\n",
    "            i2 = index(atom(q),o2)\n",
    "            ans += atom_chi(orb(p),orb(q),o1) * interaction_matrix[i1,i2] * atom_chi(orb(r),orb(s),o2)\n",
    "    return ans"
   ]
  },
  {
   "cell_type": "markdown",
   "metadata": {},
   "source": [
    "## 3. Hartree-Fock theory\n",
    "\n",
    "Even with a simple model for $\\hat{H}$, we cannot calculate its ground state energy exactly for more than a few Argon atoms. Instead, we will use the [Hartree-Fock approximation](https://en.wikipedia.org/wiki/Hartree–Fock_method), which restricts the ground-state wavefunction to a single Slater determinant. We will find the Slater determinant with the lowest total energy, but a more general wavefunction will usually have an even lower energy. In the next section, we will use many-body perturbation theory to improve our estimate of the total energy.\n",
    "\n",
    "The central objects of Hartree-Fock theory are the 1-electron density matrix $\\rho_{p,q}$ and the Fock matrix $f_{p,q}$. These two matrices depend on each other, which defines a nonlinear set of equations that we must solve iteratively, which is usually referred to as the self-consistent field (SCF) cycle. For this to converge, we must start from a reasonable initial guess for $\\rho_{p,q}$. We will initialize it to the density matrix for isolated Argon atoms,\n",
    "\n",
    "$$ \\rho_{p,q}^{\\mathrm{atom}} = \\begin{cases} \n",
    "   1, & p = q \\ \\& \\ \\mathrm{orb}(p) \\in \\{ p_x, p_y, p_z \\} \\\\\n",
    "   0, & \\mathrm{otherwise}\n",
    "\\end{cases} $$\n",
    "\n",
    "Because of spin symmetry, we use the same $\\rho_{p,q}$ for each spin type, which reduces the sum over spin types to degeneracy pre-factors. Thus, half of the electrons are spin-up and half are spin-down."
   ]
  },
  {
   "cell_type": "code",
   "execution_count": 17,
   "metadata": {},
   "outputs": [],
   "source": [
    "density_matrix = np.diag( np.tile([0,1,1,1],num_atoms) )\n",
    "fock_matrix = np.empty( (ndof,ndof) )\n",
    "num_occ = num_atoms*3"
   ]
  },
  {
   "cell_type": "markdown",
   "metadata": {},
   "source": [
    "Within the SCF cycle, the Fock matrix is defined by the density matrix,\n",
    "\n",
    "$$ f_{p,q} = h_{p,q} + \\sum_{r,s} ( 2 V_{p,q,r,s} - V_{p,s,r,q} )\\rho_{r,s} , $$\n",
    "\n",
    "the Fock matrix defines the molecular orbital matrix $\\phi_{i,j}$ as its eigenvectors,\n",
    "\n",
    "$$ \\sum_{q} f_{p,q} \\phi_{q,r} = E_r \\phi_{p,r}, $$\n",
    "\n",
    "and the density matrix is defined by the occupied orbitals,\n",
    "\n",
    "$$ \\rho_{p,q} = \\sum_{i \\in \\mathrm{occ}} \\phi_{p,i} \\phi_{q,i}. $$\n",
    "\n",
    "We assign the orbitals with the lowest energies $E_i$ to be occupied until all of the electrons are accounted for. To converge this process, we mix in a fraction of the new density matrix with the old density matrix and iterate until convergence. This is a crude strategy, but it works for weakly interacting atoms like Argon."
   ]
  },
  {
   "cell_type": "code",
   "execution_count": 18,
   "metadata": {},
   "outputs": [
    {
     "name": "stdout",
     "output_type": "stream",
     "text": [
      "0.1492021755687329\n",
      "0.11169379974979549\n",
      "0.08361245612085569\n",
      "0.06258877318188523\n",
      "0.046848909284176864\n",
      "0.03506486510243732\n",
      "0.026242421292939765\n",
      "0.01963724373921714\n",
      "0.014692076116877973\n",
      "0.010989719255522917\n",
      "0.008217829148570957\n",
      "0.006142562916581864\n",
      "0.004588848754989887\n",
      "0.0034256149198615875\n",
      "0.0025547313095114882\n",
      "0.001902730508644219\n",
      "0.0014146097206043037\n",
      "0.0010491906211227704\n",
      "0.0007756456495050828\n",
      "0.0005708977174739534\n",
      "0.0004176740949782564\n",
      "0.0003030506102355463\n",
      "0.00021736410122847995\n",
      "0.00015340323225391733\n",
      "0.00010581438029171578\n",
      "7.0687017979929e-05\n"
     ]
    }
   ],
   "source": [
    "still_converging = True\n",
    "mixing_fraction = 0.25\n",
    "convergence_tolerance = 1e-4\n",
    "while still_converging:\n",
    "    fock_matrix = hamiltonian_matrix\n",
    "    for i in range(ndof):\n",
    "        for j in range(ndof):\n",
    "            for orb_k in orbitals:\n",
    "                for orb_l in orbitals:\n",
    "                    k = index(atom(j),orb_k)\n",
    "                    l = index(atom(i),orb_l)\n",
    "                    fock_matrix[i,j] += (2.0*V_tensor(i,j,k,l)*density_matrix[k,l]\n",
    "                                         - V_tensor(i,l,k,j)*density_matrix[k,l])\n",
    "\n",
    "    eigenvalues, eigenvectors = np.linalg.eigh(fock_matrix)\n",
    "    occ_matrix = eigenvectors[:,:num_occ]\n",
    "    new_density_matrix = np.matmul( occ_matrix, occ_matrix.T )\n",
    "\n",
    "    error_norm = np.linalg.norm( density_matrix - new_density_matrix )\n",
    "    print(error_norm)\n",
    "    if error_norm < convergence_tolerance:\n",
    "        still_converging = False\n",
    "    density_matrix = (mixing_fraction*new_density_matrix\n",
    "                      + (1.0 - mixing_fraction)*density_matrix)"
   ]
  },
  {
   "cell_type": "markdown",
   "metadata": {},
   "source": [
    "Once we have a converged density matrix, the Hartree-Fock total energy is defined as\n",
    "\n",
    "$$ \\begin{align}\n",
    "  E_{\\mathrm{HF}} &= \\sum_{i < j} \\frac{Z^2}{|\\vec{r}_i - \\vec{r}_j|} + 2 \\sum_{p,q} h_{p,q} \\rho_{p,q}\n",
    "  + \\sum_{p,q,r,s} V_{p,q,r,s} ( 2 \\rho_{p,q} \\rho_{r,s} - \\rho_{p,s} \\rho_{r,q} ) \\\\\n",
    "  & = \\sum_{i < j} \\frac{Z^2}{|\\vec{r}_i - \\vec{r}_j|} + \\sum_{p,q} (h_{p,q} + f_{p,q}) \\rho_{p,q}\n",
    "  \\end{align} $$"
   ]
  },
  {
   "cell_type": "code",
   "execution_count": 19,
   "metadata": {},
   "outputs": [
    {
     "name": "stdout",
     "output_type": "stream",
     "text": [
      "8208.95786503593 23.045941546018394\n"
     ]
    }
   ],
   "source": [
    "energy_HF = energy_ion + np.einsum('ij,ij',hamiltonian_matrix + fock_matrix,density_matrix)\n",
    "print(energy_HF,energy_ion)"
   ]
  },
  {
   "cell_type": "markdown",
   "metadata": {},
   "source": [
    "## 4. 2nd-order Moller-Plesset (MP2) perturbation theory\n",
    "\n",
    "The Hartree-Fock approximation does not describe the London dispersion interaction between Argon atoms. We must use many-body perturbation theory to improve our approximation to the ground state of $\\hat{H}$. Thankfully, we only need to use the first correction beyond Hartree-Fock theory, which is [second-order Moller-Plesset (MP2) perturbation theory](https://en.wikipedia.org/wiki/Møller–Plesset_perturbation_theory). It is simple, but computationally expensive. The computational bottleneck is the transformation of the tensor $V_{p,q,r,s}$ from the atomic orbital basis to the molecular orbital basis,\n",
    "\n",
    "$$ \\tilde{V}_{a,i,b,j} = \\sum_{p,q,r,s} \\phi_{p,a} \\phi_{q,i} \\phi_{r,b} \\phi_{s,j} V_{p,q,r,s}. $$\n",
    "\n",
    "where we are restricting some indices to occupied orbitals ($i$ and $j$) and some indices to the unoccupied \"virtual\" orbitals ($a$ and $b$). This use of specific orbital labels to denote a restriction of indices is standard notation in quantum chemistry. We can be a little bit clever and use the factored form of $V_{p,q,r,s}$ to reduce our intermediate memory usage,\n",
    "\n",
    "$$ \\begin{align}\n",
    "   \\tilde{\\chi}_{a,i}^p &= \\sum_{q,r} \\phi_{q,a} \\phi_{r,i} \\chi_{q,r}^p \\\\\n",
    "   \\tilde{V}_{a,i,b,j} &= \\sum_{p,q} \\tilde{\\chi}_{a,i}^p V_{p,q}^{\\mathrm{ee}} \\tilde{\\chi}_{b,j}^q\n",
    "   \\end{align} $$"
   ]
  },
  {
   "cell_type": "code",
   "execution_count": 20,
   "metadata": {},
   "outputs": [],
   "source": [
    "virt_matrix = eigenvectors[:,num_occ:]\n",
    "chi2_tensor = np.zeros((ndof,ndof,ndof))\n",
    "for i in range(ndof):\n",
    "    for j in range(ndof):\n",
    "        for k in range(ndof):\n",
    "            if atom(i) == atom(j) and atom(j) == atom(k):\n",
    "                chi2_tensor[i,j,k] = atom_chi(orb(i),orb(j),orb(k))\n",
    "\n",
    "chi2_tensor = np.einsum('ij,kl,ikm',virt_matrix,occ_matrix,chi2_tensor,optimize=True)\n",
    "V2_tensor = np.einsum('ijk,kl,mnl',chi2_tensor,interaction_matrix,chi2_tensor,optimize=True)"
   ]
  },
  {
   "cell_type": "markdown",
   "metadata": {},
   "source": [
    "In this simple implementation, we are not taking full advantage of the sparisty of the initial $\\chi$ tensor. Also, the original $V$ tensor was implemented as a function, analogous to \"direct\" quantum chemistry methods that recompute integrals on-the-fly, whereas $\\tilde{V}$ is constructed explicitly and stored in memory. The MP2 correction to the total energy is then just a large summation,\n",
    "\n",
    "$$ E_{\\mathrm{MP2}} = - \\sum_{a,b \\in \\mathrm{virt}} \\sum_{i,j \\in \\mathrm{occ}} \\frac{2 \\tilde{V}_{a,i,b,j}^2 - \\tilde{V}_{a,i,b,j} \\tilde{V}_{a,j,b,i}}{E_a + E_b - E_i - E_j} . $$"
   ]
  },
  {
   "cell_type": "code",
   "execution_count": 22,
   "metadata": {},
   "outputs": [
    {
     "name": "stdout",
     "output_type": "stream",
     "text": [
      "-5.040162683758985e-07\n"
     ]
    }
   ],
   "source": [
    "energy_MP2 = 0.0\n",
    "num_virt = num_atoms\n",
    "occ_energy = eigenvalues[:num_occ]\n",
    "virt_energy = eigenvalues[num_occ:]\n",
    "for a in range(num_virt):\n",
    "    for b in range(num_virt):\n",
    "        for i in range(num_occ):\n",
    "            for j in range(num_occ):\n",
    "                energy_MP2 -= ( (2.0*V2_tensor[a,i,b,j]**2 - V2_tensor[a,i,b,j]*V2_tensor[a,j,b,i])\n",
    "                                /(virt_energy[a] + virt_energy[b] - occ_energy[i] - occ_energy[j]) )\n",
    "print(energy_MP2)"
   ]
  },
  {
   "cell_type": "markdown",
   "metadata": {},
   "source": [
    "The MP2 bottleneck in the formation of $\\tilde{V}$ from $\\tilde{\\chi}$ and $V^{\\mathrm{ee}}$ scales as $O(n^5)$ operations for $n$ atoms because of 4 free tensor indices and 1 summed tensor index once the contraction has been optimally arranged into intermediate operations.\n",
    "\n",
    "## 5. Localized perturbation theory\n",
    "\n",
    "An important area of ongoing research is the use of localization to accelerate QM calculations. Noble gases are an extreme example that enable localization to be applied very aggressively. If we will treat $t_{p,q}^{\\mathrm{SK}}$ as a perturbation, then the Hartree-Fock equations are solved by our initial atomic guess for $\\rho_{p,q}$. The energy contributions from pairs of atoms decays rapidly with distance, and we can ignore pairs of well-separated atoms."
   ]
  },
  {
   "cell_type": "code",
   "execution_count": 27,
   "metadata": {},
   "outputs": [
    {
     "name": "stdout",
     "output_type": "stream",
     "text": [
      "[(0, 1), (0, 2), (0, 3), (1, 2), (1, 3), (2, 3)]\n"
     ]
    }
   ],
   "source": [
    "max_distance = 15.0\n",
    "nearby_pairs = [ (i,j) for i in range(num_atoms)\n",
    "                       for j in range(num_atoms)\n",
    "                       if i < j\n",
    "                       and np.linalg.norm(coordinates[i]-coordinates[j]) <= max_distance ]\n",
    "print(nearby_pairs)"
   ]
  },
  {
   "cell_type": "markdown",
   "metadata": {},
   "source": [
    "The localized Hartree-Fock energy can be computed from the independent-atom solutions and a localized sum of pairwise atomic contributions that combine ion-ion, electron-ion, and electron-electron Coulomb energy contributions."
   ]
  },
  {
   "cell_type": "code",
   "execution_count": 25,
   "metadata": {},
   "outputs": [],
   "source": [
    "V_eI_onsite = eval_kernel(V_eI_kernel)([0,0,0],[0,0,0])\n",
    "V_ee_onsite = eval_kernel(V_ee_kernel)([0,0,0],[0,0,0])\n",
    "energy_HF_local = num_atoms*Z*(E_p + V_eI_onsite + 0.5*Z*V_ee_onsite)\n",
    "\n",
    "V_loc = eval_kernel(V_II_kernel + Z*V_eI_kernel + (Z**2)*V_ee_kernel)\n",
    "for pair in nearby_pairs:\n",
    "    r1 = coordinates[pair[0]]\n",
    "    r2 = coordinates[pair[1]]\n",
    "    energy_HF_local += V_loc(r1,r2)"
   ]
  },
  {
   "cell_type": "markdown",
   "metadata": {},
   "source": [
    "In addition to a localized version of the MP2 energy, we must also account for the perturbative correction to the Hartree-Fock energy upon introducing $t_{p,q}^{\\mathrm{SK}}$,\n",
    "\n",
    "$$ E_{\\Delta HF} = - 2 \\sum_{a \\in \\mathrm{virt}} \\sum_{i \\in \\mathrm{occ}} \\frac{(t_{a,i}^{\\mathrm{SK}})^2}{E_a - E_i} . $$\n",
    "\n",
    "The localized MP2 correction is identical to the standard correction, but the $\\tilde{V}$ tensor can be replaced by the $V$ tensor and we can avoid storing and transforming an explicit tensor. In the atomic solution, the $p$ orbitals are occupied and the $s$ orbitals are virtual."
   ]
  },
  {
   "cell_type": "code",
   "execution_count": 26,
   "metadata": {},
   "outputs": [
    {
     "name": "stdout",
     "output_type": "stream",
     "text": [
      "-9.7917706243942 -0.046318598580678036 -0.00033184624078257585\n"
     ]
    }
   ],
   "source": [
    "energy_HF_delta = 0.0\n",
    "for pair in nearby_pairs:\n",
    "    r1 = coordinates[pair[0]]\n",
    "    r2 = coordinates[pair[1]]\n",
    "    for o in p_set:\n",
    "        energy_HF_delta -= 2.0*(t_SK('s',o,r1-r2)**2 + t_SK(o,'s',r1-r2)**2) / (E_s - E_p)\n",
    "\n",
    "energy_MP2_local = 0.0\n",
    "for o1 in p_set:\n",
    "    for o2 in p_set:\n",
    "        a = index(0,'s')\n",
    "        b = index(0,'s')\n",
    "        i = index(0,o1)\n",
    "        j = index(0,o2)\n",
    "        energy_MP2_local -= num_atoms*((2.0*V_tensor(a,i,b,j)**2\n",
    "                                        - V_tensor(a,i,b,j)*V_tensor(a,j,b,i))\n",
    "                                        / (2.0*E_s - 2.0*E_p))\n",
    "for pair in nearby_pairs:\n",
    "    for o1 in p_set:\n",
    "        for o2 in p_set:\n",
    "            a = index(pair[0],'s')\n",
    "            b = index(pair[1],'s')\n",
    "            i = index(pair[0],o1)\n",
    "            j = index(pair[1],o2)\n",
    "            energy_MP2_local -= 4.0*V_tensor(a,i,b,j)**2 / (2.0*E_s - 2.0*E_p)\n",
    "            \n",
    "print(energy_HF_local,energy_HF_delta,energy_MP2_local)"
   ]
  },
  {
   "cell_type": "markdown",
   "metadata": {},
   "source": [
    "Except for the formation of the nearby atomic pairs list, this entire localized calculation scales as $O(n)$ operations for $n$ atoms. This is an example of a QM calculation that has been stripped down to the point where it can be competitive in cost with simple interatomic potentials.\n",
    "\n",
    "## 6. Further development of this project\n",
    "\n",
    "During the summer school, you will be developing this base QM project into a more fleshed-out piece of software.\n",
    "\n",
    "### A. Function encapsulation\n",
    "\n",
    "It is good programming practice to isolate segments of code with common functionality into functions. A code written in terms of well-designed, nested functions is usually much more readable than the monolithic code block presented here. In particular, we would like this project's functionality to be accessible as a function that inputs coordinates and outputs a total energy. The standard and localized calculations are distinct approximations with very different costs, and they should be independently accessible with a similar interface.\n",
    "\n",
    "### B. Testing & model validation\n",
    "\n",
    "### C. Object-oriented programming\n",
    "\n",
    "### D. C++ refactoring\n",
    "\n",
    "### E. \"Extra credit\"\n",
    "\n",
    "Calculate the list of nearby atomic pairs with a linear-scaling algorithm. Fine-tune the localization cutoff radius (<tt>max_distance</tt>) to better balance cost versus accuracy."
   ]
  },
  {
   "cell_type": "code",
   "execution_count": null,
   "metadata": {},
   "outputs": [],
   "source": []
  }
 ],
 "metadata": {
  "kernelspec": {
   "display_name": "Python 3",
   "language": "python",
   "name": "python3"
  },
  "language_info": {
   "codemirror_mode": {
    "name": "ipython",
    "version": 3
   },
   "file_extension": ".py",
   "mimetype": "text/x-python",
   "name": "python",
   "nbconvert_exporter": "python",
   "pygments_lexer": "ipython3",
   "version": "3.7.1"
  }
 },
 "nbformat": 4,
 "nbformat_minor": 2
}
