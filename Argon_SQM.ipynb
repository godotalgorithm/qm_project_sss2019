{
 "cells": [
  {
   "cell_type": "markdown",
   "metadata": {},
   "source": [
    "# 2019 MolSSI Summer School QM project: semiempirical model of Argon\n",
    "\n",
    "## 1. Introduction\n",
    "\n",
    "In this project, we will simulate a cluster of Argon atoms using quantum mechanics (QM) to calculate their total energy. First-principles QM simulations are complicated and expensive, and a quick implementation would rely on a substantial amount of pre-existing software infrastructure. Instead, we will implement a much simpler semiempirical QM simulation that has been designed and parameterized to reproduce first-principles QM data using a minimal model. We can then limit our external dependencies to the standard mathematical functionality of Python: NumPy to build and solve matrix and tensor equations and SymPy to compute analytical derivatives as needed:"
   ]
  },
  {
   "cell_type": "code",
   "execution_count": 1,
   "metadata": {},
   "outputs": [],
   "source": [
    "import numpy as np\n",
    "import sympy"
   ]
  },
  {
   "cell_type": "markdown",
   "metadata": {},
   "source": [
    "As is typically the case in quantum chemistry, we will treat the atomi nuclei as classical point charges,\n",
    "\n",
    "$$ \\vec{r}_i = (x_i , y_i, z_i). $$\n",
    "\n",
    "While we would normally read these from a file or pass them in as an argument to a function, we will just specify a set of atomic coordinates in this example:"
   ]
  },
  {
   "cell_type": "code",
   "execution_count": 2,
   "metadata": {},
   "outputs": [
    {
     "name": "stdout",
     "output_type": "stream",
     "text": [
      "1\n",
      "[[0. 0. 0.]]\n"
     ]
    }
   ],
   "source": [
    "atomic_coordinates = np.array([ [0.0,0.0,0.0] ])\n",
    "#atomic_coordinates = np.array([ [0.0,0.0,0.0], [3.0,4.0,5.0] ])\n",
    "number_of_atoms = len(atomic_coordinates)\n",
    "\n",
    "np.set_printoptions(precision=1)\n",
    "print(number_of_atoms)\n",
    "print(atomic_coordinates)"
   ]
  },
  {
   "cell_type": "markdown",
   "metadata": {},
   "source": [
    "Similarly, we will only calculate and print the total energy to the screen, whereas more useful software would probably print output data to a file or return it from a function call. You will add such features as you refactor this software. All physical quantities in this project will be specified in Hartree atomic units, where the bohr is the unit of length and the hartree is the unit of energy.\n",
    "\n",
    "## 2. Model Hamiltonian\n",
    "\n",
    "This semiempirical model will combine some standard concepts and methods used in physics and chemistry. First, it will use a minimal number of electronic degrees of freedom. Because Argon is a noble gas, it interacts primarily through London dispersion forces that are mediated by quantum dipole fluctuations. The lowest energy dipole transition is from the occupied $3p$ states to the unoccupied $4s$ state, and we will include these 4 atomic orbitals per atom. Similarly, we will use a multipole expansion to simplify electronic excitations and retain only the monopole and dipole terms, which also restricts electronic polarization to 4 degrees of freedom per atom. We will use $\\{s, p_x, p_y, p_z\\}$ to label both sets of basis functions on each atom."
   ]
  },
  {
   "cell_type": "code",
   "execution_count": 3,
   "metadata": {},
   "outputs": [
    {
     "name": "stdout",
     "output_type": "stream",
     "text": [
      "['px', 'py', 'pz']\n"
     ]
    }
   ],
   "source": [
    "orbital_types = ['s', 'px' ,'py', 'pz']\n",
    "orbitals_per_atom = len(orbital_types)\n",
    "\n",
    "p_orbitals = orbital_types[1:]\n",
    "print(p_orbitals)"
   ]
  },
  {
   "cell_type": "markdown",
   "metadata": {},
   "source": [
    "Within our minimal basis, we will describe the electronic state as the ground state of a quantum many-body Hamiltonian $\\hat{H}$. As is standard in quantum chemistry, we begin by writing the Hamiltonian in second quantization notation,\n",
    "\n",
    "$$ \\hat{H} = E_{\\mathrm{ion}} + \\sum_{p,q} \\sum_{\\sigma \\in \\{ \\uparrow , \\downarrow \\} } h_{p,q} \\hat{a}_{p,\\sigma}^{\\dagger} \\hat{a}_{q,\\sigma} + \\tfrac{1}{2}\\sum_{p,q,r,s} \\sum_{\\sigma,\\sigma' \\in \\{ \\uparrow , \\downarrow \\} } V_{p,q,r,s} \\hat{a}_{p,\\sigma}^{\\dagger} \\hat{a}_{r,\\sigma'}^{\\dagger} \\hat{a}_{s,\\sigma'} \\hat{a}_{q,\\sigma} , $$\n",
    "\n",
    "where $\\hat{a}_{p,\\sigma}^{\\dagger}$ and $\\hat{a}_{p,\\sigma}$ are the electron raising and lowering operators for an atomic orbital index $p$ and spin $\\sigma$. We will not be using $\\hat{H}$ itself in our calculations, but we will make use of the coefficient tensors $h_{p,q}$ and $V_{p,q,r,s}$. In first-principles calculations, each element of $h_{p,q}$ and $V_{p,q,r,s}$ would require the evaluation of a complicated integral. In our semiempirical model, we will set most of them to zero and assign a simple analytical form to the rest of them. We will also assume that the atomic orbitals are all orthogonal, which avoids having to deal with overlap matrices. The notation being used here is mostly consistent with modern quantum chemistry notation, but some objects, particularly $V_{p,q,r,s}$, have multiple conventions in practice.\n",
    "\n",
    "The atomic orbital index contains information about which atom the orbital is centered on and the type of orbital it is. We will often extract these individual pieces of information using $\\mathrm{atom}(p)$ to denote the atom and $\\mathrm{orb}(p)$ to denote the orbital type. This is the first of many instances in this project where we could either represent something as a pre-tabulate list or a function. We will always make the simpler choice, in this case functions:"
   ]
  },
  {
   "cell_type": "code",
   "execution_count": 4,
   "metadata": {},
   "outputs": [
    {
     "name": "stdout",
     "output_type": "stream",
     "text": [
      "1st atom index = 0\n",
      "1st orbital type = s\n",
      "ao index of s orbital on 1st atom = 0\n"
     ]
    }
   ],
   "source": [
    "def atom(ao_index):\n",
    "    '''Returns the atom index part of an atomic orbital index.'''\n",
    "    return ao_index // orbitals_per_atom\n",
    "\n",
    "def orb(ao_index):\n",
    "    '''Returns the orbital type of an atomic orbital index.'''\n",
    "    orb_index = ao_index % orbitals_per_atom\n",
    "    return orbital_types[orb_index]\n",
    "\n",
    "def ao_index(atom_p,orb_p):\n",
    "    '''Returns the atomic orbital index for a given atom index and orbital type.'''\n",
    "    p = atom_p*orbitals_per_atom\n",
    "    p += orbital_types.index(orb_p)\n",
    "    return p\n",
    "\n",
    "print(\"1st atom index =\", atom(0))\n",
    "print(\"1st orbital type =\", orb(0))\n",
    "print(\"ao index of s orbital on 1st atom =\", ao_index(0, 's'))"
   ]
  },
  {
   "cell_type": "markdown",
   "metadata": {},
   "source": [
    "### A. Slater-Koster tight-binding model\n",
    "\n",
    "We will describe the kinetic energy of electrons using a simplified [Slater-Koster tight-binding method](https://en.wikipedia.org/wiki/Tight_binding). Because of the symmetry of atomic orbitals and the translational invariance of the kinetic energy operator, there are 4 distinct, distance-dependent \"hopping\" energies that characterize the interatomic kinetic energy between s and p orbitals:\n",
    "\n",
    "![s-p hopping diagram](hopping_cases.png)\n",
    "\n",
    "All other atomic orientations can be related to these cases by a change of coordinates. While it is compatible with very general functional forms, we will use a Gaussian form to simplify the model and its implementation. The parameters of this simple version are a common length scale $r_{\\mathrm{SK}}$ and the strength of each hopping energy:"
   ]
  },
  {
   "cell_type": "code",
   "execution_count": 5,
   "metadata": {},
   "outputs": [],
   "source": [
    "r_sk = 6.0\n",
    "t_sss = -0.002\n",
    "t_sps = -0.001\n",
    "t_pps = -0.001\n",
    "t_ppp = -0.001"
   ]
  },
  {
   "cell_type": "markdown",
   "metadata": {},
   "source": [
    "The distance-dependent \"hopping\" matrix elements are then defined by\n",
    "\n",
    "$$ t_{o,o'}^{\\mathrm{SK}}(\\vec{r}) = \\exp(1-r^2/r_{\\mathrm{SK}}^2) \\times \\begin{cases}\n",
    " t_{sss} , & o = o' = s \\\\\n",
    " [\\vec{o}' \\cdot (\\vec{r}/r_{\\mathrm{SK}})] t_{sps}, & o = s \\ \\& \\ o' \\in \\{p_x, p_y, p_z\\} \\\\\n",
    " -[\\vec{o} \\cdot (\\vec{r}/r_{\\mathrm{SK}})] t_{sps} , & o' = s \\ \\& \\ o \\in \\{p_x, p_y, p_z\\} \\\\\n",
    " (r^2/r_{\\mathrm{SK}}^2)\\,(\\vec{o} \\cdot \\vec{o}')  t_{ppp} - [\\vec{o} \\cdot (\\vec{r}/r_{\\mathrm{SK}})] [\\vec{o}' \\cdot (\\vec{r}/r_{\\mathrm{SK}})] (t_{pps} + t_{ppp}), & o,o' \\in \\{p_x, p_y, p_z\\}\n",
    " \\end{cases} $$\n",
    " \n",
    "where $o$ and $o'$ are the orbital types of the 1st and 2nd atoms and $\\vec{r}$ is a vector pointing from the 2nd atom to the 1st atom. We are assigning direction vectors to the p orbitals, $\\vec{p}_x \\equiv (1,0,0)$, $\\vec{p}_y \\equiv (0,1,0)$, and $\\vec{p}_z \\equiv (0,0,1)$, to simplify the notation. This project has multiple case-based formulas, and we will implement them using a code structure similar to each formula:"
   ]
  },
  {
   "cell_type": "code",
   "execution_count": 6,
   "metadata": {},
   "outputs": [
    {
     "name": "stdout",
     "output_type": "stream",
     "text": [
      "vec[px] = [1, 0, 0]\n",
      "hopping test -0.001\n"
     ]
    }
   ],
   "source": [
    "vec = { 'px':[1,0,0], 'py':[0,1,0], 'pz':[0,0,1] }\n",
    "\n",
    "def hopping_matrix_element(o1,o2,r12):\n",
    "    '''Returns the hopping matrix element for a pair of orbitals of types o1 & o2 separated by a vector r12.'''\n",
    "    r12_rescaled = r12 / r_sk\n",
    "    r12_squared = np.dot(r12_rescaled, r12_rescaled)\n",
    "    ans = np.exp( 1.0 - r12_squared )\n",
    "    if o1 == 's' and o2 == 's':\n",
    "        ans *= t_sss\n",
    "    if o1 == 's' and o2 in p_orbitals:\n",
    "        ans *= np.dot(vec[o2], r12_rescaled) * t_sps\n",
    "    if o2 == 's' and o1 in p_orbitals:\n",
    "        ans *= -np.dot(vec[o1], r12_rescaled)* t_sps\n",
    "    if o1 in p_orbitals and o2 in p_orbitals:\n",
    "        ans *= ( r12_squared * np.dot(vec[o1], vec[o2]) * t_ppp\n",
    "                 - np.dot(vec[o1], r12_rescaled) * np.dot(vec[o2], r12_rescaled) * (t_pps + t_ppp) )\n",
    "    return ans\n",
    "\n",
    "print(\"vec[px] =\",vec['px'])\n",
    "print(\"hopping test\",hopping_matrix_element('s','px',np.array([r_sk,0.0,0.0])))"
   ]
  },
  {
   "cell_type": "markdown",
   "metadata": {},
   "source": [
    "### B. Coulomb interaction\n",
    "\n",
    "The nuclear charge of Argon is 18, but our model combines the nucleus and the 12 neglected electrons ($1s^2$, $2s^2$, $2p^6$, and $3s^2$) as an ionic point charge with $Z = 6$. For the purpose of electrostatics, we will describe the valence electrons of each Argon atom as Gaussian charges and their derivatives, which form a multipole expansion. The width of these Gaussians, $r_0$, is the first parameter of our semiempirical model:"
   ]
  },
  {
   "cell_type": "code",
   "execution_count": 7,
   "metadata": {},
   "outputs": [],
   "source": [
    "ionic_charge = 6.0\n",
    "r0 = 6.5"
   ]
  },
  {
   "cell_type": "markdown",
   "metadata": {},
   "source": [
    "The electron-ion and electron-electron interactions have the same functional form, but the electron-electron interaction has an wider effective width of $\\sqrt{2}r_0$,\n",
    "\n",
    "$$ V^{\\mathrm{II}}(r) = \\frac{Z^2}{r} \\\\\n",
    "   V^{\\mathrm{eI}}(r) = -Z \\frac{\\mathrm{erf}(r/r_0)}{r} \\\\\n",
    "   V^{\\mathrm{ee}}(r) = \\frac{\\mathrm{erf}(r/(\\sqrt{2}r_0))}{r}. $$\n",
    "\n",
    "These functions can be constructed using SymPy, which will allow us to evaluate analytical derivatives automatically:"
   ]
  },
  {
   "cell_type": "code",
   "execution_count": 8,
   "metadata": {},
   "outputs": [
    {
     "name": "stdout",
     "output_type": "stream",
     "text": [
      "erf(r)/r\n",
      "-2*r**2/(3*sqrt(pi)) + 2/sqrt(pi)\n"
     ]
    }
   ],
   "source": [
    "x1, y1, z1, x2, y2, z2, r = sympy.symbols('x1 y1 z1 x2 y2 z2 r')\n",
    "r12 = sympy.sqrt( (x1 - x2)**2 + (y1 - y2)**2 + (z1 - z2)**2 + 1e-16)\n",
    "\n",
    "erf_kernel = sympy.erf(r) / r\n",
    "erf_kernel_close = erf_kernel.series(r,0,3).removeO()\n",
    "\n",
    "v_ii_kernel = ionic_charge**2 / r12\n",
    "v_ei_kernel = -ionic_charge*erf_kernel.subs(r, r12/r0) / r0\n",
    "v_ee_kernel = erf_kernel.subs(r, r12/(np.sqrt(2.0)*r0)) / (np.sqrt(2.0)*r0)\n",
    "\n",
    "v_ei_kernel_close = -ionic_charge*erf_kernel_close.subs(r, r12/r0) / r0\n",
    "v_ee_kernel_close = erf_kernel_close.subs(r, r12/(np.sqrt(2.0)*r0)) / (np.sqrt(2.0)*r0)\n",
    "\n",
    "def eval_kernel(kernel):\n",
    "    '''Returns a NumPy function that efficiently evaluates the SymPy function input.'''\n",
    "    return sympy.lambdify(([x1,y1,z1], [x2,y2,z2]), kernel)\n",
    "\n",
    "print(erf_kernel)\n",
    "print(erf_kernel_close)"
   ]
  },
  {
   "cell_type": "markdown",
   "metadata": {},
   "source": [
    "SymPy is not smart enough to take limits automatically when they are needed, so we need to do this ourselves to avoid numerical singularities. It is then straightforward (but slow) to \"compile\" a function from SymPy to NumPy to evaluate formulas. For example, the ion-ion energy in $\\hat{H}$,\n",
    "\n",
    "$$ E_{\\mathrm{ion}} = \\sum_{i < j} V^{\\mathrm{II}}(|\\vec{r}_i - \\vec{r}_j|) $$\n",
    "\n",
    "can be implemented as:"
   ]
  },
  {
   "cell_type": "code",
   "execution_count": 9,
   "metadata": {},
   "outputs": [
    {
     "name": "stdout",
     "output_type": "stream",
     "text": [
      "0.0\n"
     ]
    }
   ],
   "source": [
    "def calculate_energy_ion(atomic_coordinates):\n",
    "    '''Returns the ionic contribution to the total energy for an input list of atomic coordinates.'''\n",
    "    energy_ion = 0.0\n",
    "    v_ii = eval_kernel( v_ii_kernel )\n",
    "    for i, r_i in enumerate(atomic_coordinates):\n",
    "        for j, r_j in enumerate(atomic_coordinates):\n",
    "            if i < j:\n",
    "                energy_ion += v_ii(r_i, r_j)\n",
    "    return energy_ion\n",
    "\n",
    "energy_ion = calculate_energy_ion(atomic_coordinates)\n",
    "print(energy_ion)"
   ]
  },
  {
   "cell_type": "markdown",
   "metadata": {},
   "source": [
    "For functions involving electrons, we need to define a differential operator that will generate our multipole expansions,\n",
    "\n",
    "$$ \\Delta_p = \\begin{cases} 1 , & \\mathrm{orb}(p) = s \\\\\n",
    "d/d x_{\\mathrm{atom}(p)} , & \\mathrm{orb}(p) = p_x \\\\\n",
    "d/d y_{\\mathrm{atom}(p)} , & \\mathrm{orb}(p) = p_y \\\\\n",
    "d/d z_{\\mathrm{atom}(p)} , & \\mathrm{orb}(p) = p_z\n",
    "\\end{cases}, $$"
   ]
  },
  {
   "cell_type": "code",
   "execution_count": 10,
   "metadata": {},
   "outputs": [
    {
     "name": "stdout",
     "output_type": "stream",
     "text": [
      "function:\n",
      " 1.0*erf(0.108785658644084*sqrt((x1 - x2)**2 + (y1 - y2)**2 + (z1 - z2)**2 + 1.0e-16))/sqrt((x1 - x2)**2 + (y1 - y2)**2 + (z1 - z2)**2 + 1.0e-16)\n",
      "x1 derivative:\n",
      " 1.0*(-x1 + x2)*erf(0.108785658644084*sqrt((x1 - x2)**2 + (y1 - y2)**2 + (z1 - z2)**2 + 1.0e-16))/((x1 - x2)**2 + (y1 - y2)**2 + (z1 - z2)**2 + 1.0e-16)**(3/2) + 0.217571317288168*(x1 - x2)*exp(-0.0118343195266272*(x1 - x2)**2 - 0.0118343195266272*(y1 - y2)**2 - 0.0118343195266272*(z1 - z2)**2)/(sqrt(pi)*((x1 - x2)**2 + (y1 - y2)**2 + (z1 - z2)**2 + 1.0e-16))\n",
      "x1 & x2 derivatives:\n",
      " 0.217571317288168*(-x1 + x2)**2*exp(-0.0118343195266272*(x1 - x2)**2 - 0.0118343195266272*(y1 - y2)**2 - 0.0118343195266272*(z1 - z2)**2)/(sqrt(pi)*((x1 - x2)**2 + (y1 - y2)**2 + (z1 - z2)**2 + 1.0e-16)**2) + 1.0*(-x1 + x2)*(3*x1 - 3*x2)*erf(0.108785658644084*sqrt((x1 - x2)**2 + (y1 - y2)**2 + (z1 - z2)**2 + 1.0e-16))/((x1 - x2)**2 + (y1 - y2)**2 + (z1 - z2)**2 + 1.0e-16)**(5/2) + 0.217571317288168*(0.0236686390532544*x1 - 0.0236686390532544*x2)*(x1 - x2)*exp(-0.0118343195266272*(x1 - x2)**2 - 0.0118343195266272*(y1 - y2)**2 - 0.0118343195266272*(z1 - z2)**2)/(sqrt(pi)*((x1 - x2)**2 + (y1 - y2)**2 + (z1 - z2)**2 + 1.0e-16)) + 0.217571317288168*(x1 - x2)*(2*x1 - 2*x2)*exp(-0.0118343195266272*(x1 - x2)**2 - 0.0118343195266272*(y1 - y2)**2 - 0.0118343195266272*(z1 - z2)**2)/(sqrt(pi)*((x1 - x2)**2 + (y1 - y2)**2 + (z1 - z2)**2 + 1.0e-16)**2) - 0.217571317288168*exp(-0.0118343195266272*(x1 - x2)**2 - 0.0118343195266272*(y1 - y2)**2 - 0.0118343195266272*(z1 - z2)**2)/(sqrt(pi)*((x1 - x2)**2 + (y1 - y2)**2 + (z1 - z2)**2 + 1.0e-16)) + 1.0*erf(0.108785658644084*sqrt((x1 - x2)**2 + (y1 - y2)**2 + (z1 - z2)**2 + 1.0e-16))/((x1 - x2)**2 + (y1 - y2)**2 + (z1 - z2)**2 + 1.0e-16)**(3/2)\n"
     ]
    }
   ],
   "source": [
    "def grad1(kernel,orb1):\n",
    "    '''Returns the input interaction kernel with a multipole generator in the 1st coordinate applied to it.'''\n",
    "    if orb1 == 's':\n",
    "        return kernel\n",
    "    if orb1 == 'px':\n",
    "        return sympy.diff(kernel, x1)\n",
    "    if orb1 == 'py':\n",
    "        return sympy.diff(kernel, y1)\n",
    "    if orb1 == 'pz':\n",
    "        return sympy.diff(kernel, z1)\n",
    "\n",
    "def grad2(kernel,orb2):\n",
    "    '''Returns the input interaction kernel with a multipole generator in the 2nd coordinate applied to it.'''\n",
    "    if orb2 == 's':\n",
    "        return kernel\n",
    "    if orb2 == 'px':\n",
    "        return sympy.diff(kernel, x2)\n",
    "    if orb2 == 'py':\n",
    "        return sympy.diff(kernel, y2)\n",
    "    if orb2 == 'pz':\n",
    "        return sympy.diff(kernel, z2)\n",
    "\n",
    "print(\"function:\\n\", v_ee_kernel)\n",
    "print(\"x1 derivative:\\n\", grad1(v_ee_kernel,'px'))\n",
    "print(\"x1 & x2 derivatives:\\n\", grad2(grad1(v_ee_kernel,'px'),'px'))"
   ]
  },
  {
   "cell_type": "markdown",
   "metadata": {},
   "source": [
    "both for the vector of electron-ion potential matrix elements,\n",
    "\n",
    "$$ V^{\\mathrm{eI}}_p = \\sum_{i} \\Delta_p V^{\\mathrm{eI}}(|\\vec{r}_{\\mathrm{atom}(p)} - \\vec{r}_i|) , $$"
   ]
  },
  {
   "cell_type": "code",
   "execution_count": 11,
   "metadata": {},
   "outputs": [
    {
     "name": "stdout",
     "output_type": "stream",
     "text": [
      "[-1.  0.  0.  0.]\n"
     ]
    }
   ],
   "source": [
    "def calculate_potential_vector(atomic_coordinates):\n",
    "    '''Returns the electron-ion potential energy vector for an input list of atomic coordinates.'''\n",
    "    ndof = len(atomic_coordinates)*orbitals_per_atom\n",
    "    potential_vector = np.zeros(ndof)\n",
    "    for orb_p in orbital_types:\n",
    "        v_ei = eval_kernel( grad1(v_ei_kernel, orb_p) )\n",
    "        v_ei_close = eval_kernel( grad1(v_ei_kernel_close, orb_p) )\n",
    "        for atom_p,r_p in enumerate(atomic_coordinates):\n",
    "            p = ao_index(atom_p, orb_p)\n",
    "            for atom_i,r_i in enumerate(atomic_coordinates):\n",
    "                if atom_i != atom_p:\n",
    "                    potential_vector[p] += v_ei(r_p, r_i)\n",
    "                else:\n",
    "                    potential_vector[p] += v_ei_close(r_p,r_i)\n",
    "    return potential_vector\n",
    "\n",
    "potential_vector = calculate_potential_vector(atomic_coordinates)\n",
    "print(potential_vector)"
   ]
  },
  {
   "cell_type": "markdown",
   "metadata": {},
   "source": [
    "and the matrix of electron-electron interaction matrix elements,\n",
    "\n",
    "$$ V^{\\mathrm{ee}}_{p,q} = \\Delta_p \\Delta_q V^{\\mathrm{ee}}(|\\vec{r}_{\\mathrm{atom}(p)} - \\vec{r}_{\\mathrm{atom}(q)}|) . $$"
   ]
  },
  {
   "cell_type": "code",
   "execution_count": 12,
   "metadata": {},
   "outputs": [
    {
     "name": "stdout",
     "output_type": "stream",
     "text": [
      "[[ 0.1 -0.  -0.  -0. ]\n",
      " [-0.   0.   0.   0. ]\n",
      " [-0.   0.   0.   0. ]\n",
      " [-0.   0.   0.   0. ]]\n"
     ]
    }
   ],
   "source": [
    "def calculate_interaction_matrix(atomic_coordinates):\n",
    "    '''Returns the electron-electron interaction energy matrix for an input list of atomic coordinates.'''\n",
    "    ndof = len(atomic_coordinates)*orbitals_per_atom\n",
    "    interaction_matrix = np.zeros( (ndof,ndof) )\n",
    "    for orb_p in orbital_types:\n",
    "        for orb_q in orbital_types:\n",
    "            v_ee = eval_kernel( grad2(grad1(v_ee_kernel, orb_p), orb_q) )\n",
    "            v_ee_close = eval_kernel( grad2(grad1(v_ee_kernel_close, orb_p), orb_q) )\n",
    "            for atom_p,r_p in enumerate(atomic_coordinates):\n",
    "                p = ao_index(atom_p, orb_p)\n",
    "                for atom_q,r_q in enumerate(atomic_coordinates):\n",
    "                    q = ao_index(atom_q, orb_q)\n",
    "                    if atom_p != atom_q:\n",
    "                        interaction_matrix[p,q] = v_ee(r_p, r_q)\n",
    "                    else:\n",
    "                        interaction_matrix[p,q] = v_ee_close(r_p, r_q)\n",
    "    return interaction_matrix\n",
    "\n",
    "interaction_matrix = calculate_interaction_matrix(atomic_coordinates)\n",
    "print(interaction_matrix)"
   ]
  },
  {
   "cell_type": "markdown",
   "metadata": {},
   "source": [
    "### C. Multipole decomposition\n",
    "\n",
    "To define $V_{p,q,r,s}$ based on the Coulomb matrix elements $V_{p,q}^{\\mathrm{ee}}$, we need to define a mapping from products of atomic orbitals to a linear combination of terms in the multipole expansion of electronic charge. Because the atomic orbitals are normalized, their monopole coefficient with themselves is 1 (i.e. they have unit charge). Because of orthogonality, there is no monopole term for either intra-atomic or inter-atomic transitions between atomic orbitals. We will ignore dipole transitions between atoms, which corresponds to the [neglect of diatomic differential overlap](https://en.wikipedia.org/wiki/NDDO) (NDDO) approximation that is commonly used in semiempirical quantum chemistry. All that remains is the intra-atomic s-p transition, and we will use a model parameter, $D$, to define its dipole strength:"
   ]
  },
  {
   "cell_type": "code",
   "execution_count": 13,
   "metadata": {},
   "outputs": [],
   "source": [
    "dipole_strength = 10.0"
   ]
  },
  {
   "cell_type": "markdown",
   "metadata": {},
   "source": [
    "These transformation rules between atomic orbitals and multipole moments can be summarized pictorially,\n",
    "\n",
    "![s-p multipole diagram](multipole_cases.png)\n",
    "\n",
    "or mathematically as a 3-index tensor $\\chi_{p,q,r}$ where $p$ and $q$ are the atomic orbital indices and $r$ is the multipole moment index,\n",
    "\n",
    "$$ \\chi_{p, q, r} = \\begin{cases} 1, & \\mathrm{orb}(p) = \\mathrm{orb}(q) \\ \\& \\ \\mathrm{orb}(r) = s \\ \\& \\ \\mathrm{atom}(p) = \\mathrm{atom}(q) = \\mathrm{atom}(r) \\\\ \n",
    " D , & \\mathrm{orb}(q) = \\mathrm{orb}(r) \\in \\{p_x, p_y, p_z\\} \\ \\& \\ \\mathrm{orb}(p) = s \\ \\& \\ \\mathrm{atom}(p) = \\mathrm{atom}(q) = \\mathrm{atom}(r) \\\\\n",
    " D , & \\mathrm{orb}(p) = \\mathrm{orb}(r) \\in \\{p_x, p_y, p_z\\} \\ \\& \\ \\mathrm{orb}(q) = s \\ \\& \\ \\mathrm{atom}(p) = \\mathrm{atom}(q) = \\mathrm{atom}(r) \\\\\n",
    " 0, & \\mathrm{otherwise} \\end{cases} . $$"
   ]
  },
  {
   "cell_type": "code",
   "execution_count": 14,
   "metadata": {},
   "outputs": [],
   "source": [
    "def chi_on_atom(o1,o2,o3):\n",
    "    '''Returns the value of the chi tensor for 3 orbital indices on the same atom.'''\n",
    "    if o1 == o2 and o3 == 's':\n",
    "        return 1.0\n",
    "    if o1 == o3 and o3 in p_orbitals and o2 == 's':\n",
    "        return dipole_strength\n",
    "    if o2 == o3 and o3 in p_orbitals and o1 == 's':\n",
    "        return dipole_strength\n",
    "    return 0.0"
   ]
  },
  {
   "cell_type": "markdown",
   "metadata": {},
   "source": [
    "The multipole expansion plays the same role as an auxiliary basis set in modern resolution-of-identity (RI) methods that are used to accelerate large quantum chemistry simulations. The primary purpose of these methods is to decompose $V_{p,q,r,s}$ into a low-rank factored form, which is\n",
    "\n",
    "$$ V_{p,q,r,s} = \\sum_{t,u} \\chi_{p,q,t} V_{t,u}^{\\mathrm{ee}} \\chi_{r,s,u} $$\n",
    "\n",
    "in our semiempirical model. Unlike the previous vectors and matrices that we have constructed, the $\\chi$ and $V$ tensors are sparse, meaning that most of their entries are zero. Without a more clever implementation, it can be computationally slow and wasteful to store and compute with these zero values. We have instead implemented $\\chi$ as a function that computes non-zero tensor elements as needed. This is analogous to \"direct\" quantum chemistry methods that recompute integrals on-the-fly instead of storing them. We will also manipulate formulas to use the factored form of $V_{p,q,r,s}$, so that we don't need to compute or store it explicitly either.\n",
    "\n",
    "### D. 1-body Hamiltonian\n",
    "\n",
    "The 1-body Hamiltonian coefficients $h_{p,q}$ combine many of the components that we have already discussed and implemented. It also contains the final two parameters of our semiempirical model, the orbital energies of the s and p atomic orbitals:"
   ]
  },
  {
   "cell_type": "code",
   "execution_count": 15,
   "metadata": {},
   "outputs": [],
   "source": [
    "energy_s = 0.6\n",
    "energy_p = 0.0"
   ]
  },
  {
   "cell_type": "markdown",
   "metadata": {},
   "source": [
    "The diagonal matrix elements contain these energies and contributions from the electron-ion potential, while the off-diagonal matrix elements contain hopping energies defined by the Slater-Koster tight-binding model,\n",
    "\n",
    "$$ h_{p,q} = \\begin{cases}\n",
    " E_{\\mathrm{orb}(p)} \\delta_{\\mathrm{orb}(p),\\mathrm{orb}(q)} + \\sum_{r} \\chi_{p,q,r} V_{r}^{\\mathrm{eI}} , & \\mathrm{atom}(p) = \\mathrm{atom}(q) \\\\\n",
    " t^{\\mathrm{SK}}_{\\mathrm{orb}(p),\\mathrm{orb}(q)}(\\vec{r}_{\\mathrm{atom}(p)} - \\vec{r}_{\\mathrm{atom}(q)})\n",
    "  , & \\mathrm{atom}(p) \\neq \\mathrm{atom}(q)\n",
    "  \\end{cases}. $$"
   ]
  },
  {
   "cell_type": "code",
   "execution_count": 16,
   "metadata": {},
   "outputs": [
    {
     "name": "stdout",
     "output_type": "stream",
     "text": [
      "hamiltonian matrix =\n",
      " [[-0.4  0.   0.   0. ]\n",
      " [ 0.  -1.   0.   0. ]\n",
      " [ 0.   0.  -1.   0. ]\n",
      " [ 0.   0.   0.  -1. ]]\n"
     ]
    }
   ],
   "source": [
    "orbital_energy = { 's':energy_s, 'px':energy_p, 'py':energy_p, 'pz':energy_p }\n",
    "\n",
    "def calculate_hamiltonian_matrix(atomic_coordinates):\n",
    "    '''Returns the 1-body Hamiltonian matrix for an input list of atomic coordinates.'''\n",
    "    ndof = len(atomic_coordinates)*orbitals_per_atom\n",
    "    hamiltonian_matrix = np.zeros( (ndof,ndof) )\n",
    "    potential_vector = calculate_potential_vector(atomic_coordinates)\n",
    "    for p in range(ndof):\n",
    "        for q in range(ndof):\n",
    "            if atom(p) == atom(q):\n",
    "                hamiltonian_matrix[p,q] = 0.0\n",
    "                if orb(p) == orb(q):\n",
    "                    hamiltonian_matrix[p,q] += orbital_energy[orb(p)]\n",
    "                for orb_r in orbital_types:\n",
    "                    r = ao_index(atom(p),orb_r)\n",
    "                    hamiltonian_matrix[p,q] += chi_on_atom(orb(p), orb(q), orb_r) * potential_vector[r]\n",
    "            if atom(p) != atom(q):\n",
    "                r_pq = atomic_coordinates[atom(p)] - atomic_coordinates[atom(q)]\n",
    "                hamiltonian_matrix[p,q] = hopping_matrix_element(orb(p), orb(q), r_pq)\n",
    "    return hamiltonian_matrix\n",
    "\n",
    "hamiltonian_matrix = calculate_hamiltonian_matrix(atomic_coordinates)\n",
    "print(\"hamiltonian matrix =\\n\",hamiltonian_matrix)"
   ]
  },
  {
   "cell_type": "markdown",
   "metadata": {},
   "source": [
    "We have now fully specified the many-body Hamiltonian $\\hat{H}$, and we can now move on to approximating and calculating some of its physical properties.\n",
    "\n",
    "## 3. Hartree-Fock theory\n",
    "\n",
    "Even with a simple model for $\\hat{H}$, we cannot calculate its ground state energy exactly for more than a few Argon atoms. Instead, we will use the [Hartree-Fock approximation](https://en.wikipedia.org/wiki/Hartree–Fock_method), which restricts the ground-state wavefunction to a single Slater determinant. We will find the Slater determinant with the lowest total energy, but a more general wavefunction will usually have an even lower energy. In the next section, we will use many-body perturbation theory to improve our estimate of the total energy.\n",
    "\n",
    "The central objects of Hartree-Fock theory are the 1-electron density matrix $\\rho_{p,q}$ and the Fock matrix $f_{p,q}$. These two matrices depend on each other, which defines a nonlinear set of equations that we must solve iteratively. Iteratively solving these equations is usually referred to as the self-consistent field (SCF) cycle. For this to converge, we must start from a reasonable initial guess for $\\rho_{p,q}$. We will initialize it to the density matrix for isolated Argon atoms,\n",
    "\n",
    "$$ \\rho_{p,q}^{\\mathrm{atom}} = \\begin{cases} \n",
    "   1, & p = q \\ \\& \\ \\mathrm{orb}(p) \\in \\{ p_x, p_y, p_z \\} \\\\\n",
    "   0, & \\mathrm{otherwise}\n",
    "\\end{cases} $$"
   ]
  },
  {
   "cell_type": "code",
   "execution_count": 17,
   "metadata": {},
   "outputs": [
    {
     "name": "stdout",
     "output_type": "stream",
     "text": [
      "[[0. 0. 0. 0.]\n",
      " [0. 1. 0. 0.]\n",
      " [0. 0. 1. 0.]\n",
      " [0. 0. 0. 1.]]\n"
     ]
    }
   ],
   "source": [
    "orbital_occupation = { 's':0, 'px':1, 'py':1, 'pz':1 }\n",
    "\n",
    "def calculate_atomic_density_matrix(atomic_coordinates):\n",
    "    '''Returns a trial 1-electron density matrix for an input list of atomic coordinates.'''\n",
    "    ndof = len(atomic_coordinates)*orbitals_per_atom\n",
    "    density_matrix = np.zeros( (ndof,ndof) )\n",
    "    for p in range(ndof):\n",
    "        density_matrix[p,p] = orbital_occupation[orb(p)]\n",
    "    return density_matrix\n",
    "\n",
    "density_matrix = calculate_atomic_density_matrix(atomic_coordinates)\n",
    "print(density_matrix)"
   ]
  },
  {
   "cell_type": "markdown",
   "metadata": {},
   "source": [
    "Because of spin symmetry, we use the same $\\rho_{p,q}$ for each electron spin type, which reduces the sum over spin types in $\\hat{H}$ to degeneracy pre-factors. Thus, half of the electrons are spin-up and half are spin-down.\n",
    "\n",
    "The Fock matrix is defined by the density matrix,\n",
    "\n",
    "$$ \\begin{align} f_{p,q} & = h_{p,q} + \\sum_{r,s} ( 2 V_{p,q,r,s} - V_{r,q,p,s} )\\rho_{r,s} \\\\\n",
    "                         & = h_{p,q} + \\sum_{r,s,t,u} ( 2 \\chi_{p,q,t} \\chi_{r,s,u} - \\chi_{r,q,t} \\chi_{p,s,u} )\n",
    "                             V_{t,u}^{\\mathrm{ee}} \\rho_{r,s}\n",
    "   \\end{align} $$"
   ]
  },
  {
   "cell_type": "code",
   "execution_count": 18,
   "metadata": {},
   "outputs": [
    {
     "name": "stdout",
     "output_type": "stream",
     "text": [
      "[[ 0.3  0.   0.   0. ]\n",
      " [ 0.  -0.3  0.   0. ]\n",
      " [ 0.   0.  -0.3  0. ]\n",
      " [-0.1 -0.1 -0.1 -0.4]]\n"
     ]
    }
   ],
   "source": [
    "def calculate_fock_matrix(hamiltonian_matrix, interaction_matrix, density_matrix):\n",
    "    '''Returns the Fock matrix defined by the input Hamiltonian, interaction, & density matrices.'''\n",
    "    ndof = np.size(hamiltonian_matrix,0)\n",
    "    fock_matrix = hamiltonian_matrix.copy()\n",
    "    # Hartree potential term\n",
    "    for p in range(ndof):\n",
    "        for r in range(ndof):\n",
    "            for orb_q in orbital_types:\n",
    "                for orb_s in orbital_types:\n",
    "                    for orb_t in orbital_types:\n",
    "                        for orb_u in orbital_types:\n",
    "                            # p, q, & t are on the same atom\n",
    "                            q = ao_index(atom(p),orb_q)\n",
    "                            t = ao_index(atom(p),orb_t)\n",
    "                            # r, s, & u are on the same atom\n",
    "                            s = ao_index(atom(r),orb_s)\n",
    "                            u = ao_index(atom(r),orb_u)\n",
    "                            chi_pqt = chi_on_atom(orb(p), orb_q, orb_t)\n",
    "                            chi_rsu = chi_on_atom(orb(r), orb_s, orb_u)\n",
    "                            fock_matrix[p,q] += 2.0*chi_pqt*chi_rsu*interaction_matrix[t,u]*density_matrix[r,s]\n",
    "    # Fock exchange term\n",
    "    for p in range(ndof):\n",
    "        for q in range(ndof):\n",
    "            for orb_r in orbital_types:\n",
    "                for orb_s in orbital_types:\n",
    "                    for orb_t in orbital_types:\n",
    "                        for orb_u in orbital_types:\n",
    "                            # r, q, & t are on the same atom\n",
    "                            r = ao_index(atom(q),orb_r)\n",
    "                            t = ao_index(atom(q),orb_t)\n",
    "                            # p, s, & u are on the same atom\n",
    "                            s = ao_index(atom(p),orb_s)\n",
    "                            u = ao_index(atom(p),orb_u)\n",
    "                            chi_rqt = chi_on_atom(orb(r), orb_q, orb_t)\n",
    "                            chi_psu = chi_on_atom(orb(p), orb_s, orb_u)\n",
    "                            fock_matrix[p,q] -= chi_rqt*chi_psu*interaction_matrix[t,u]*density_matrix[r,s]\n",
    "    return fock_matrix\n",
    "\n",
    "fock_matrix = calculate_fock_matrix(hamiltonian_matrix, interaction_matrix, density_matrix)\n",
    "print(fock_matrix)"
   ]
  },
  {
   "cell_type": "markdown",
   "metadata": {},
   "source": [
    "which is just a sum of two tensor contractions between the $V$ tensor and the density matrix. Because the $V$ tensor is sparse, we can save a lot of computational effort by avoiding terms that we know to be zero. However, this requires more effort than simply calling \"einsum\", which is a very useful NumPy function that will simplify the last steps of this project. Also, there is a lot of artificial overhead with many nested for loops in Python, so this\n",
    "implementation is not very efficient.\n",
    "\n",
    "The Fock matrix defines the matrix of molecular orbitals $\\phi_{i,j}$ as its eigenvectors,\n",
    "\n",
    "$$ \\sum_{q} f_{p,q} \\phi_{q,r} = E_r \\phi_{p,r}, $$\n",
    "\n",
    "and the density matrix is defined by the occupied orbitals (we occupy the lowest-energy orbitals with all of the electrons available),\n",
    "\n",
    "$$ \\rho_{p,q} = \\sum_{i \\in \\mathrm{occ}} \\phi_{p,i} \\phi_{q,i}. $$"
   ]
  },
  {
   "cell_type": "code",
   "execution_count": 19,
   "metadata": {},
   "outputs": [
    {
     "name": "stdout",
     "output_type": "stream",
     "text": [
      "[[ 0.  -0.  -0.   0.2]\n",
      " [-0.   1.  -0.   0. ]\n",
      " [-0.  -0.   1.   0. ]\n",
      " [ 0.2  0.   0.   1. ]]\n"
     ]
    }
   ],
   "source": [
    "def calculate_density_matrix(fock_matrix):\n",
    "    '''Returns the 1-electron density matrix defined by the input Fock matrix.'''\n",
    "    num_occ = 3*np.size(fock_matrix,0)//orbitals_per_atom # there are 3 occupied electrons per atom\n",
    "    orbital_energy, orbital_matrix = np.linalg.eigh(fock_matrix)\n",
    "    occupied_matrix = orbital_matrix[:,:num_occ]\n",
    "    density_matrix = occupied_matrix @ occupied_matrix.T\n",
    "    return density_matrix\n",
    "\n",
    "density_matrix = calculate_density_matrix(fock_matrix)\n",
    "print(density_matrix)"
   ]
  },
  {
   "cell_type": "markdown",
   "metadata": {},
   "source": [
    "To calculate a $\\rho_{p,q}$ and $f_{p,q}$ that are consistent with each other, we mix in a fraction of the new density matrix with the old density matrix and re-calculate them until convergence. This is a crude strategy for an SCF cycle, but it works for weakly interacting atoms like Argon:"
   ]
  },
  {
   "cell_type": "code",
   "execution_count": 20,
   "metadata": {},
   "outputs": [
    {
     "name": "stdout",
     "output_type": "stream",
     "text": [
      "density matrix after SCF:\n",
      " [[ 1.4e-02 -1.4e-02 -1.4e-02  1.1e-01]\n",
      " [-1.4e-02  1.0e+00 -2.1e-04  1.7e-03]\n",
      " [-1.4e-02 -2.1e-04  1.0e+00  1.7e-03]\n",
      " [ 1.1e-01  1.7e-03  1.7e-03  9.9e-01]]\n"
     ]
    }
   ],
   "source": [
    "def scf_cycle(hamiltonian_matrix, interaction_matrix, density_matrix):\n",
    "    '''Returns a converged density matrix defined by the input Hamiltonian, interaction, & density matrices.'''\n",
    "    MAX_SCF_ITERATIONS = 100\n",
    "    MIXING_FRACTION = 0.25\n",
    "    CONVERGENCE_TOLERANCE = 1e-4\n",
    "    for iteration in range(MAX_SCF_ITERATIONS):\n",
    "        fock_matrix = calculate_fock_matrix(hamiltonian_matrix, interaction_matrix, density_matrix)\n",
    "        new_density_matrix = calculate_density_matrix(fock_matrix)\n",
    "\n",
    "        error_norm = np.linalg.norm( density_matrix - new_density_matrix )\n",
    "        if error_norm < CONVERGENCE_TOLERANCE:\n",
    "            return density_matrix\n",
    "\n",
    "        density_matrix = (MIXING_FRACTION*new_density_matrix\n",
    "                          + (1.0 - MIXING_FRACTION)*density_matrix)\n",
    "    print(\"SCF cycle didn't converge\")\n",
    "    return density_matrix\n",
    "\n",
    "density_matrix = scf_cycle(hamiltonian_matrix, interaction_matrix, density_matrix)\n",
    "print(\"density matrix after SCF:\\n\",density_matrix)"
   ]
  },
  {
   "cell_type": "markdown",
   "metadata": {},
   "source": [
    "Once we have a converged density matrix, the Hartree-Fock total energy is defined as\n",
    "\n",
    "$$ \\begin{align}\n",
    "  E_{\\mathrm{HF}} &= E_{\\mathrm{ion}} + 2 \\sum_{p,q} h_{p,q} \\rho_{p,q}\n",
    "  + \\sum_{p,q,r,s} V_{p,q,r,s} ( 2 \\rho_{p,q} \\rho_{r,s} - \\rho_{p,s} \\rho_{r,q} ) \\\\\n",
    "  & = E_{\\mathrm{ion}} + \\sum_{p,q} (h_{p,q} + f_{p,q}) \\rho_{p,q}\n",
    "  \\end{align} $$"
   ]
  },
  {
   "cell_type": "code",
   "execution_count": 21,
   "metadata": {},
   "outputs": [
    {
     "name": "stdout",
     "output_type": "stream",
     "text": [
      "Hartree-Fock energy = -4.151238488585861\n"
     ]
    }
   ],
   "source": [
    "def calculate_energy_hf(hamiltonian_matrix, fock_matrix, density_matrix):\n",
    "    '''Returns the Hartree-Fock total energy defined by the input Hamiltonian, Fock, & density matrices.'''\n",
    "    energy_hf = energy_ion + np.einsum('pq,pq',hamiltonian_matrix + fock_matrix,density_matrix)\n",
    "    return energy_hf\n",
    "\n",
    "fock_matrix = calculate_fock_matrix(hamiltonian_matrix, interaction_matrix, density_matrix)\n",
    "energy_hf = calculate_energy_hf(hamiltonian_matrix, fock_matrix, density_matrix)\n",
    "print(\"Hartree-Fock energy =\",energy_hf)"
   ]
  },
  {
   "cell_type": "markdown",
   "metadata": {},
   "source": [
    "## 4. 2nd-order Moller-Plesset (MP2) perturbation theory\n",
    "\n",
    "The Hartree-Fock approximation does not describe the London dispersion interaction between Argon atoms. We must use many-body perturbation theory to improve our approximation to the ground state of $\\hat{H}$. Thankfully, we only need to use the first correction beyond Hartree-Fock theory, which is [second-order Moller-Plesset (MP2) perturbation theory](https://en.wikipedia.org/wiki/Møller–Plesset_perturbation_theory). It is simple, but computationally expensive. The computational bottleneck is the transformation of the tensor $V_{p,q,r,s}$ from the atomic orbital basis to the molecular orbital basis,\n",
    "\n",
    "$$ \\tilde{V}_{a,i,b,j} = \\sum_{p,q,r,s} \\phi_{p,a} \\phi_{q,i} \\phi_{r,b} \\phi_{s,j} V_{p,q,r,s}. $$\n",
    "\n",
    "where we are restricting some indices to occupied orbitals ($i$ and $j$) and some indices to the unoccupied \"virtual\" orbitals ($a$ and $b$). This use of specific orbital labels to denote a restriction of indices is standard notation in quantum chemistry. To make this easier to program, we can partition the molecular orbitals and their energies into occupied and virtual:"
   ]
  },
  {
   "cell_type": "code",
   "execution_count": 22,
   "metadata": {},
   "outputs": [
    {
     "name": "stdout",
     "output_type": "stream",
     "text": [
      "occupied orbital energies:\n",
      " [-0.6 -0.3 -0.2]\n",
      "virtual orbital energies:\n",
      " [0.3]\n"
     ]
    }
   ],
   "source": [
    "def partition_orbitals(fock_matrix):\n",
    "    '''Returns a list with the occupied/virtual energies & orbitals defined by the input Fock matrix.'''\n",
    "    num_occ = 3*np.size(fock_matrix,0)//orbitals_per_atom # there are 3 occupied electrons per atom\n",
    "    orbital_energy, orbital_matrix = np.linalg.eigh(fock_matrix)\n",
    "    occupied_energy = orbital_energy[:num_occ]\n",
    "    virtual_energy = orbital_energy[num_occ:]\n",
    "    occupied_matrix = orbital_matrix[:,:num_occ]\n",
    "    virtual_matrix = orbital_matrix[:,num_occ:]\n",
    "\n",
    "    return occupied_energy, virtual_energy, occupied_matrix, virtual_matrix\n",
    "\n",
    "occupied_energy, virtual_energy, occupied_matrix, virtual_matrix = partition_orbitals(fock_matrix)\n",
    "\n",
    "print(\"occupied orbital energies:\\n\", occupied_energy)\n",
    "print(\"virtual orbital energies:\\n\", virtual_energy)"
   ]
  },
  {
   "cell_type": "markdown",
   "metadata": {},
   "source": [
    "We use the factored form of $V_{p,q,r,s}$ to reduce our intermediate memory usage,\n",
    "\n",
    "$$ \\begin{align}\n",
    "   \\tilde{\\chi}_{a,i,p} &= \\sum_{q,r} \\phi_{q,a} \\phi_{r,i} \\chi_{q,r,p} \\\\\n",
    "   \\tilde{V}_{a,i,b,j} &= \\sum_{p,q} \\tilde{\\chi}_{a,i,p} V_{p,q}^{\\mathrm{ee}} \\tilde{\\chi}_{b,j,q}\n",
    "   \\end{align} $$"
   ]
  },
  {
   "cell_type": "code",
   "execution_count": 23,
   "metadata": {},
   "outputs": [
    {
     "name": "stdout",
     "output_type": "stream",
     "text": [
      "[[[[9.4e-02 1.0e-17 1.9e-03]]\n",
      "\n",
      "  [[6.9e-18 9.6e-02 6.9e-18]]\n",
      "\n",
      "  [[1.9e-03 6.9e-18 9.4e-02]]]]\n"
     ]
    }
   ],
   "source": [
    "def transform_interaction_tensor(occupied_matrix, virtual_matrix, interaction_matrix):\n",
    "    '''Returns a transformed V tensor defined by the input occupied, virtual, & interaction matrices.'''\n",
    "    ndof = np.size(interaction_matrix,0)\n",
    "    chi_tensor = np.zeros( (ndof,ndof,ndof) )\n",
    "    for p in range(ndof):\n",
    "        for q in range(ndof):\n",
    "            for r in range(ndof):\n",
    "                if atom(p) == atom(q) and atom(q) == atom(r):\n",
    "                    chi_tensor[p,q,r] = chi_on_atom(orb(p), orb(q), orb(r))\n",
    "\n",
    "    chi2_tensor = np.einsum('qa,ri,qrp', virtual_matrix, occupied_matrix, chi_tensor, optimize=True)\n",
    "    interaction_tensor = np.einsum('aip,pq,bjq->aibj', chi2_tensor, interaction_matrix, chi2_tensor, optimize=True)\n",
    "    return interaction_tensor\n",
    "\n",
    "interaction_tensor = transform_interaction_tensor(occupied_matrix, virtual_matrix, interaction_matrix)\n",
    "print(interaction_tensor)"
   ]
  },
  {
   "cell_type": "markdown",
   "metadata": {},
   "source": [
    "In this simple implementation, we are not taking full advantage of the sparisty of the initial $\\chi$ tensor. Unlike the $V$ tensor, the $\\tilde{V}$ tensor is constructed explicitly and stored in memory. The MP2 correction to the total energy is then just a large summation over previously computed and stored quantities,\n",
    "\n",
    "$$ E_{\\mathrm{MP2}} = - \\sum_{a,b \\in \\mathrm{virt}} \\sum_{i,j \\in \\mathrm{occ}} \\frac{2 \\tilde{V}_{a,i,b,j}^2 - \\tilde{V}_{a,i,b,j} \\tilde{V}_{a,j,b,i}}{E_a + E_b - E_i - E_j} . $$"
   ]
  },
  {
   "cell_type": "code",
   "execution_count": 24,
   "metadata": {},
   "outputs": [
    {
     "name": "stdout",
     "output_type": "stream",
     "text": [
      "-0.0224906541495073\n"
     ]
    }
   ],
   "source": [
    "def calculate_energy_mp2(fock_matrix, interaction_matrix):\n",
    "    '''Returns the MP2 contribution to the total energy defined by the input Fock & interaction matrices.'''\n",
    "    E_occ, E_virt, occupied_matrix, virtual_matrix = partition_orbitals(fock_matrix)\n",
    "    V_tilde = transform_interaction_tensor(occupied_matrix, virtual_matrix, interaction_matrix)\n",
    "\n",
    "    energy_mp2 = 0.0\n",
    "    num_occ = len(E_occ)\n",
    "    num_virt = len(E_virt)\n",
    "    for a in range(num_virt):\n",
    "        for b in range(num_virt):\n",
    "            for i in range(num_occ):\n",
    "                for j in range(num_occ):\n",
    "                    energy_mp2 -= ( (2.0*V_tilde[a,i,b,j]**2 - V_tilde[a,i,b,j]*V_tilde[a,j,b,i])\n",
    "                                    /(E_virt[a] + E_virt[b] - E_occ[i] - E_occ[j]) )\n",
    "    return energy_mp2\n",
    "\n",
    "energy_mp2 = calculate_energy_mp2(fock_matrix, interaction_matrix)\n",
    "print(energy_mp2)"
   ]
  },
  {
   "cell_type": "markdown",
   "metadata": {},
   "source": [
    "The bottleneck of MP2 calculations is the formation of $\\tilde{V}$ from $\\tilde{\\chi}$ and $V^{\\mathrm{ee}}$, which scales as $O(n^5)$ operations for $n$ atoms because of 4 free tensor indices and 1 summed tensor index once the contraction has been optimally arranged into intermediate operations."
   ]
  },
  {
   "cell_type": "markdown",
   "metadata": {},
   "source": [
    "## (Extra Credit) 5. Semiempirical model parameterization\n",
    "\n",
    "For a semiempirical model to be useful, it must be parameterized to fit a set of reference data, usually from experiments or high-accuracy quantum chemistry simulation data. The parameters in this project have already been fit to data, which was carried out using the fitting procedure implemented in this section. Data fitting is an optimization problem, and we can make use of pre-existing Python optimization tools by encapsulating the fitting process into a function that inputs a list of parameters and outputs a fitting error that we want to minimize.\n",
    "\n",
    "* data to be fit\n",
    "* encapsulate a function to generate input/output data pairs\n",
    "* parameter -> error function\n",
    "* call Python optimization"
   ]
  },
  {
   "cell_type": "code",
   "execution_count": 25,
   "metadata": {},
   "outputs": [
    {
     "ename": "IndentationError",
     "evalue": "unexpected indent (<ipython-input-25-bc28e76ecf8f>, line 5)",
     "output_type": "error",
     "traceback": [
      "\u001b[0;36m  File \u001b[0;32m\"<ipython-input-25-bc28e76ecf8f>\"\u001b[0;36m, line \u001b[0;32m5\u001b[0m\n\u001b[0;31m    hamiltonian_matrix = calculate_hamiltonian_matrix(atomic_coordinates)\u001b[0m\n\u001b[0m    ^\u001b[0m\n\u001b[0;31mIndentationError\u001b[0m\u001b[0;31m:\u001b[0m unexpected indent\n"
     ]
    }
   ],
   "source": [
    "def calculate_total_energy(atomic_coordinates):\n",
    "    '''Returns the HF & MP2 contributions to total energy'''\n",
    "ndof = len(atomic_coordinates)*orbitals_per_atom\n",
    "\n",
    "    hamiltonian_matrix = calculate_hamiltonian_matrix(atomic_coordinates)\n",
    "    interaction_matrix = calculate_interaction_matrix(atomic_coordinates)\n",
    "    density_matrix = calculate_atomic_density_matrix(atomic_coordinates)\n",
    "\n",
    "    density_matrix = scf_cycle(hamiltonian_matrix, interaction_matrix, density_matrix)\n",
    "    fock_matrix = calculate_fock_matrix(hamiltonian_matrix, interaction_matrix, density_matrix)"
   ]
  },
  {
   "cell_type": "markdown",
   "metadata": {},
   "source": [
    "Visualize fitting process w/ inline matplotlib graphs?"
   ]
  },
  {
   "cell_type": "markdown",
   "metadata": {},
   "source": [
    "## (Extra Credit) 6. Localized perturbation theory\n",
    "\n",
    "Can I relate this section to SAPT?\n",
    "\n",
    "An important area of ongoing research is the use of localization to accelerate QM calculations. Noble gases are an extreme example that enable localization to be applied very aggressively. If we will treat $t_{p,q}^{\\mathrm{SK}}$ as a perturbation, then the Hartree-Fock equations are solved by our initial atomic guess for $\\rho_{p,q}$. The energy contributions from pairs of atoms decays rapidly with distance, and we can ignore pairs of well-separated atoms."
   ]
  },
  {
   "cell_type": "code",
   "execution_count": null,
   "metadata": {},
   "outputs": [],
   "source": [
    "max_distance = 15.0\n",
    "nearby_pairs = [ (i,j) for i in range(num_atoms)\n",
    "                       for j in range(num_atoms)\n",
    "                       if i < j\n",
    "                       and np.linalg.norm(coordinates[i]-coordinates[j]) <= max_distance ]\n",
    "print(nearby_pairs)"
   ]
  },
  {
   "cell_type": "markdown",
   "metadata": {},
   "source": [
    "This is a simple but inefficient method of forming the list of nearby atomic pairs.\n",
    "\n",
    "The localized Hartree-Fock energy can be computed from the independent-atom solutions and a localized sum of pairwise atomic contributions that combine ion-ion, electron-ion, and electron-electron Coulomb energy contributions."
   ]
  },
  {
   "cell_type": "code",
   "execution_count": null,
   "metadata": {},
   "outputs": [],
   "source": [
    "v_ei_onsite = eval_kernel(v_ei_kernel)([0,0,0],[0,0,0])\n",
    "v_ee_onsite = eval_kernel(v_ee_kernel)([0,0,0],[0,0,0])\n",
    "energy_hf_local = num_atoms*Z*(E_P + v_ei_onsite + 0.5*Z*v_ee_onsite)\n",
    "\n",
    "v_atom = eval_kernel(v_ii_kernel + Z*v_ei_kernel + (Z**2)*v_ee_kernel)\n",
    "for pair in nearby_pairs:\n",
    "    r1 = coordinates[pair[0]]\n",
    "    r2 = coordinates[pair[1]]\n",
    "    energy_hf_local += v_atom(r1,r2)"
   ]
  },
  {
   "cell_type": "markdown",
   "metadata": {},
   "source": [
    "In addition to a localized version of the MP2 energy, we must also account for the perturbative correction to the Hartree-Fock energy upon introducing $t_{p,q}^{\\mathrm{SK}}$,\n",
    "\n",
    "$$ E_{\\Delta HF} = - 2 \\sum_{a \\in \\mathrm{virt}} \\sum_{i \\in \\mathrm{occ}} \\frac{(t_{a,i}^{\\mathrm{SK}})^2}{E_a - E_i} . $$\n",
    "\n",
    "The localized MP2 correction is identical to the standard correction, but the $\\tilde{V}$ tensor can be replaced by the $V$ tensor and we can avoid storing and transforming an explicit tensor. In the atomic solution, the $p$ orbitals are occupied and the $s$ orbitals are virtual."
   ]
  },
  {
   "cell_type": "code",
   "execution_count": null,
   "metadata": {},
   "outputs": [],
   "source": [
    "energy_hf_delta = 0.0\n",
    "for pair in nearby_pairs:\n",
    "    r1 = coordinates[pair[0]]\n",
    "    r2 = coordinates[pair[1]]\n",
    "    for o in p_set:\n",
    "        energy_hf_delta -= 2.0*(t_sk('s',o,r1-r2)**2 + t_sk(o,'s',r1-r2)**2) / (E_S - E_P)\n",
    "\n",
    "energy_mp2_local = 0.0\n",
    "for o1 in p_set:\n",
    "    for o2 in p_set:\n",
    "        a = index(0,'s')\n",
    "        b = index(0,'s')\n",
    "        i = index(0,o1)\n",
    "        j = index(0,o2)\n",
    "        energy_mp2_local -= num_atoms*((2.0*v_tensor(a,i,b,j)**2\n",
    "                                        - v_tensor(a,i,b,j)*v_tensor(a,j,b,i))\n",
    "                                        / (2.0*E_S - 2.0*E_P))\n",
    "for pair in nearby_pairs:\n",
    "    for o1 in p_set:\n",
    "        for o2 in p_set:\n",
    "            a = index(pair[0],'s')\n",
    "            b = index(pair[1],'s')\n",
    "            i = index(pair[0],o1)\n",
    "            j = index(pair[1],o2)\n",
    "            energy_mp2_local -= 4.0*v_tensor(a,i,b,j)**2 / (2.0*E_S - 2.0*E_P)\n",
    "\n",
    "print(energy_hf_local,energy_hf_delta,energy_mp2_local)"
   ]
  },
  {
   "cell_type": "markdown",
   "metadata": {},
   "source": [
    "Except for the formation of the nearby atomic pairs list, this entire localized calculation scales as $O(n)$ operations for $n$ atoms. This is an example of a QM calculation that has been stripped down to the point where it can be competitive in cost with simple interatomic potentials."
   ]
  },
  {
   "cell_type": "code",
   "execution_count": null,
   "metadata": {},
   "outputs": [],
   "source": []
  }
 ],
 "metadata": {
  "kernelspec": {
   "display_name": "Python 3",
   "language": "python",
   "name": "python3"
  },
  "language_info": {
   "codemirror_mode": {
    "name": "ipython",
    "version": 3
   },
   "file_extension": ".py",
   "mimetype": "text/x-python",
   "name": "python",
   "nbconvert_exporter": "python",
   "pygments_lexer": "ipython3",
   "version": "3.7.1"
  }
 },
 "nbformat": 4,
 "nbformat_minor": 2
}
