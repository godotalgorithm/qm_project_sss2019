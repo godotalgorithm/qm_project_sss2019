{
 "cells": [
  {
   "cell_type": "markdown",
   "metadata": {},
   "source": [
    "# 2019 MolSSI Summer School QM project: semiempirical model of Argon\n",
    "\n",
    "## 1. Theoretical overview\n",
    "\n",
    "First-principles QM simulations are very complicated and very expensive. We could \"implement\" such simulations in a short project, but we would have to rely on a large amount of pre-existing software infrastructure. Instead, we will implement a simpler semiempirical QM simulation that contains just enough physics and chemistry to qualitatively describe our target application and uses a handful of model parameters to quantitatively reproduce some key properties of interest. We can then limit our external dependencies to the popular mathematical functionality of Python:"
   ]
  },
  {
   "cell_type": "code",
   "execution_count": 2,
   "metadata": {},
   "outputs": [],
   "source": [
    "# Import the standard Python math module & NumPy numerical library\n",
    "import math\n",
    "import numpy as np"
   ]
  },
  {
   "cell_type": "markdown",
   "metadata": {},
   "source": [
    "The goal of this project is to simulate potential energy surfaces for clusters of Argon atoms. Argon is a noble gas, thus it doesn't easily form chemical bonds or participate in chemical reactions. Its primary interaction is through the London dispersion interaction, which is mediated by quantum dipole fluctuations of its valence electrons. This will be the focus of our semiempirical model.\n",
    "\n",
    "We begin by isolating the most important degrees of freedom. Argon is heavy enough that we can treat its nuclei as a classical particle. From first-principles Hartree-Fock calculations (in the aug-cc-pV5Z basis set), the electronic energy levels of Argon's atomic orbitals are:\n",
    "\n",
    "* $1s^2 = -118.610382$ Ha\n",
    "* $2s^2 = -12.322175$ Ha\n",
    "* $2p^6 = -9.571466$ Ha\n",
    "* $3s^2 = -1.277374$ Ha\n",
    "* $3p^6 = -0.591029$ Ha\n",
    "\n",
    "\n",
    "* $4s^0 = 0.100228$ Ha (resonance)\n",
    "* $4p^0 = 0.098344$ Ha (resonance)\n",
    "* $3d^0 = 0.320092$ Ha (resonance)\n",
    "\n",
    "We will keep only the 3p and 4s atomic orbitals to capture the lowest-energy dipole transition from 3p to 4s and renormalize the model parameters to account for the aggregate effect of other, neglected dipole transitions. Thus we have 4 spin-orbitals per atom in our model.\n",
    "\n",
    "\n",
    "Write down 2nd quantized Hamiltonian in simplest form possible, explain the decomposition of indices (atom/orbital/spin). Assumptions about important matrix elements (ignore small matrix elements, fuse matrix elements that aren't small but aren't important), diffuse effects grouped into a smaller number of degrees of freedom w/ renormalized coefficients. Orbital size & dipole strength for Coulomb matrix elements, s-p splitting & hopping energies for 1-body matrix elements."
   ]
  },
  {
   "cell_type": "code",
   "execution_count": null,
   "metadata": {},
   "outputs": [],
   "source": [
    "# model parameters related to equations"
   ]
  },
  {
   "cell_type": "markdown",
   "metadata": {},
   "source": [
    "Define restricted Hartree-Fock theory, explain basics of SCF cycle (note how complicated it can get)"
   ]
  },
  {
   "cell_type": "markdown",
   "metadata": {},
   "source": [
    "Define 2nd-order Moller-Plesset perturbation theory (straightforward but expensive)"
   ]
  },
  {
   "cell_type": "markdown",
   "metadata": {},
   "source": [
    "## 2. Standard implementation\n",
    "\n",
    "   a. Basic model specification: coordinates of atoms, initial density matrix\n",
    "   \n",
    "   b. Construct 1-body matrix elements (discuss Slater-Koster tight binding & suppression of overlap & pp terms)\n",
    "   \n",
    "   c. Construct (discuss simplifications & warn about the inefficiencies of storing matrix elements in some regimes)\n",
    "   \n",
    "   d. SCF loop: construct the Fock matrix (extract 2-center matrix element blocks & treat as a tensor?)\n",
    "   \n",
    "   e. diagonalize using NumPy, mix w/ large fraction & SCF loop until convergence (measure distance between input & output density or Hamiltonian matrix)\n",
    "   \n",
    "   f. compute brute-force MP2 energy"
   ]
  },
  {
   "cell_type": "markdown",
   "metadata": {},
   "source": [
    "## 3. Model validation & revision\n",
    "\n",
    "Put reference data here, visualize density matrix to assess the extent of localization, discuss costs"
   ]
  },
  {
   "cell_type": "markdown",
   "metadata": {},
   "source": [
    "## 4. Localized implementation\n",
    "\n",
    "g. compute localized MP2 energy w/ perturbative 1-body correction"
   ]
  },
  {
   "cell_type": "markdown",
   "metadata": {},
   "source": [
    "## 5. Further exercises & reading\n",
    "\n",
    "h. discuss the possible improvements & correspondence to lessons throughout the summer school\n",
    "\n",
    "i. discuss connections to QM, modern SQM, & algorithm development"
   ]
  },
  {
   "cell_type": "code",
   "execution_count": null,
   "metadata": {},
   "outputs": [],
   "source": []
  }
 ],
 "metadata": {
  "kernelspec": {
   "display_name": "Python 3",
   "language": "python",
   "name": "python3"
  },
  "language_info": {
   "codemirror_mode": {
    "name": "ipython",
    "version": 3
   },
   "file_extension": ".py",
   "mimetype": "text/x-python",
   "name": "python",
   "nbconvert_exporter": "python",
   "pygments_lexer": "ipython3",
   "version": "3.7.1"
  }
 },
 "nbformat": 4,
 "nbformat_minor": 2
}
